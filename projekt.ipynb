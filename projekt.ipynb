{
  "cells": [
    {
      "metadata": {
        "trusted": true
      },
      "cell_type": "code",
      "source": "%matplotlib inline\n\nimport numpy as np\nimport pandas as pd\nimport torch\nimport matplotlib\nimport matplotlib.pyplot as plt\nimport torchvision.datasets as datasets\nimport torchvision.transforms as transforms",
      "execution_count": 79,
      "outputs": []
    },
    {
      "metadata": {
        "trusted": true
      },
      "cell_type": "code",
      "source": "# Obrazok 28x28 ma spolu 784 px a tie budu vstupnou vrstvou (784 neuronov)\n# Prvy skryty layer 128\n# Druhy skryty layer 64\n# na vystupe 10 neuronov (od 0-9)\n",
      "execution_count": 66,
      "outputs": []
    },
    {
      "metadata": {
        "trusted": true
      },
      "cell_type": "code",
      "source": "trainset = datasets.MNIST(\"neuronove_siete_projekt\",download=True,train=True)",
      "execution_count": 67,
      "outputs": []
    },
    {
      "metadata": {
        "trusted": true
      },
      "cell_type": "code",
      "source": "testset = datasets.MNIST(\"neuronove_siete_projekt\",download=True,train=False)",
      "execution_count": 68,
      "outputs": []
    },
    {
      "metadata": {
        "trusted": true
      },
      "cell_type": "code",
      "source": "print(\"trainset {}\".format(len(trainset)))\nprint(\"testset {}\".format(len(testset)))",
      "execution_count": 5,
      "outputs": [
        {
          "output_type": "stream",
          "text": "trainset 60000\ntestset 10000\n",
          "name": "stdout"
        }
      ]
    },
    {
      "metadata": {
        "trusted": true
      },
      "cell_type": "code",
      "source": "print(trainset[0])",
      "execution_count": 6,
      "outputs": [
        {
          "output_type": "stream",
          "text": "(<PIL.Image.Image image mode=L size=28x28 at 0x7FE9CD929B38>, 5)\n",
          "name": "stdout"
        }
      ]
    },
    {
      "metadata": {
        "trusted": true
      },
      "cell_type": "code",
      "source": "trainset[0][0]",
      "execution_count": 7,
      "outputs": [
        {
          "output_type": "execute_result",
          "execution_count": 7,
          "data": {
            "image/png": "[encoded data removed]",
            "text/plain": "<PIL.Image.Image image mode=L size=28x28 at 0x7FE9CD929B00>"
          },
          "metadata": {}
        }
      ]
    },
    {
      "metadata": {
        "trusted": true
      },
      "cell_type": "code",
      "source": "img = trainset[0][0]\nimg_data=img.getdata()\nprint(\"min: {}\".format(min(img_data)))\nprint(\"max: {}\".format(max(img_data)))",
      "execution_count": 8,
      "outputs": [
        {
          "output_type": "stream",
          "text": "min: 0\nmax: 255\n",
          "name": "stdout"
        }
      ]
    },
    {
      "metadata": {
        "trusted": true
      },
      "cell_type": "code",
      "source": "# trieda obrazku je nieco ine ako matica a preto ju treba transformovat\n#transforms = transforms.Compose([\n#    #konvertujem obrazok na Tensor\n#    transforms.ToTensor(),\n# ])\n",
      "execution_count": 9,
      "outputs": []
    },
    {
      "metadata": {
        "trusted": true
      },
      "cell_type": "code",
      "source": "# prevediem hodnoty z 0-255 na hodnoty od 0-1\n# trainset = datasets.MNIST(\"neuronove_siete_projekt\",download=True,train=True,transform=transforms)\n# trainset[0][0]",
      "execution_count": 10,
      "outputs": []
    },
    {
      "metadata": {
        "trusted": true
      },
      "cell_type": "code",
      "source": "# normalizujem si to a prevediem na interval -1až1\n#konvertujem obrazok na Tensor\n#mame šedé obrázky, tym padom nepotrebujem v poliach udavat RGB\ntransforms = transforms.Compose([\n    transforms.ToTensor(),\n    transforms.Normalize([0.5],[0.5]),\n    transforms.Lambda(lambda x: x.double())\n])\ntestset = datasets.MNIST(\"neuronove_siete_projekt\",download=True,train=False,transform=transforms)\ntrainset = datasets.MNIST(\"neuronove_siete_projekt\",download=True,train=True,transform=transforms)\ntrainset[0][0]",
      "execution_count": 11,
      "outputs": [
        {
          "output_type": "execute_result",
          "execution_count": 11,
          "data": {
            "text/plain": "tensor([[[-1.0000, -1.0000, -1.0000, -1.0000, -1.0000, -1.0000, -1.0000,\n          -1.0000, -1.0000, -1.0000, -1.0000, -1.0000, -1.0000, -1.0000,\n          -1.0000, -1.0000, -1.0000, -1.0000, -1.0000, -1.0000, -1.0000,\n          -1.0000, -1.0000, -1.0000, -1.0000, -1.0000, -1.0000, -1.0000],\n         [-1.0000, -1.0000, -1.0000, -1.0000, -1.0000, -1.0000, -1.0000,\n          -1.0000, -1.0000, -1.0000, -1.0000, -1.0000, -1.0000, -1.0000,\n          -1.0000, -1.0000, -1.0000, -1.0000, -1.0000, -1.0000, -1.0000,\n          -1.0000, -1.0000, -1.0000, -1.0000, -1.0000, -1.0000, -1.0000],\n         [-1.0000, -1.0000, -1.0000, -1.0000, -1.0000, -1.0000, -1.0000,\n          -1.0000, -1.0000, -1.0000, -1.0000, -1.0000, -1.0000, -1.0000,\n          -1.0000, -1.0000, -1.0000, -1.0000, -1.0000, -1.0000, -1.0000,\n          -1.0000, -1.0000, -1.0000, -1.0000, -1.0000, -1.0000, -1.0000],\n         [-1.0000, -1.0000, -1.0000, -1.0000, -1.0000, -1.0000, -1.0000,\n          -1.0000, -1.0000, -1.0000, -1.0000, -1.0000, -1.0000, -1.0000,\n          -1.0000, -1.0000, -1.0000, -1.0000, -1.0000, -1.0000, -1.0000,\n          -1.0000, -1.0000, -1.0000, -1.0000, -1.0000, -1.0000, -1.0000],\n         [-1.0000, -1.0000, -1.0000, -1.0000, -1.0000, -1.0000, -1.0000,\n          -1.0000, -1.0000, -1.0000, -1.0000, -1.0000, -1.0000, -1.0000,\n          -1.0000, -1.0000, -1.0000, -1.0000, -1.0000, -1.0000, -1.0000,\n          -1.0000, -1.0000, -1.0000, -1.0000, -1.0000, -1.0000, -1.0000],\n         [-1.0000, -1.0000, -1.0000, -1.0000, -1.0000, -1.0000, -1.0000,\n          -1.0000, -1.0000, -1.0000, -1.0000, -1.0000, -0.9765, -0.8588,\n          -0.8588, -0.8588, -0.0118,  0.0667,  0.3725, -0.7961,  0.3020,\n           1.0000,  0.9373, -0.0039, -1.0000, -1.0000, -1.0000, -1.0000],\n         [-1.0000, -1.0000, -1.0000, -1.0000, -1.0000, -1.0000, -1.0000,\n          -1.0000, -0.7647, -0.7176, -0.2627,  0.2078,  0.3333,  0.9843,\n           0.9843,  0.9843,  0.9843,  0.9843,  0.7647,  0.3490,  0.9843,\n           0.8980,  0.5294, -0.4980, -1.0000, -1.0000, -1.0000, -1.0000],\n         [-1.0000, -1.0000, -1.0000, -1.0000, -1.0000, -1.0000, -1.0000,\n          -0.6157,  0.8667,  0.9843,  0.9843,  0.9843,  0.9843,  0.9843,\n           0.9843,  0.9843,  0.9843,  0.9686, -0.2706, -0.3569, -0.3569,\n          -0.5608, -0.6941, -1.0000, -1.0000, -1.0000, -1.0000, -1.0000],\n         [-1.0000, -1.0000, -1.0000, -1.0000, -1.0000, -1.0000, -1.0000,\n          -0.8588,  0.7176,  0.9843,  0.9843,  0.9843,  0.9843,  0.9843,\n           0.5529,  0.4275,  0.9373,  0.8902, -1.0000, -1.0000, -1.0000,\n          -1.0000, -1.0000, -1.0000, -1.0000, -1.0000, -1.0000, -1.0000],\n         [-1.0000, -1.0000, -1.0000, -1.0000, -1.0000, -1.0000, -1.0000,\n          -1.0000, -0.3725,  0.2235, -0.1608,  0.9843,  0.9843,  0.6078,\n          -0.9137, -1.0000, -0.6627,  0.2078, -1.0000, -1.0000, -1.0000,\n          -1.0000, -1.0000, -1.0000, -1.0000, -1.0000, -1.0000, -1.0000],\n         [-1.0000, -1.0000, -1.0000, -1.0000, -1.0000, -1.0000, -1.0000,\n          -1.0000, -1.0000, -0.8902, -0.9922,  0.2078,  0.9843, -0.2941,\n          -1.0000, -1.0000, -1.0000, -1.0000, -1.0000, -1.0000, -1.0000,\n          -1.0000, -1.0000, -1.0000, -1.0000, -1.0000, -1.0000, -1.0000],\n         [-1.0000, -1.0000, -1.0000, -1.0000, -1.0000, -1.0000, -1.0000,\n          -1.0000, -1.0000, -1.0000, -1.0000,  0.0902,  0.9843,  0.4902,\n          -0.9843, -1.0000, -1.0000, -1.0000, -1.0000, -1.0000, -1.0000,\n          -1.0000, -1.0000, -1.0000, -1.0000, -1.0000, -1.0000, -1.0000],\n         [-1.0000, -1.0000, -1.0000, -1.0000, -1.0000, -1.0000, -1.0000,\n          -1.0000, -1.0000, -1.0000, -1.0000, -0.9137,  0.4902,  0.9843,\n          -0.4510, -1.0000, -1.0000, -1.0000, -1.0000, -1.0000, -1.0000,\n          -1.0000, -1.0000, -1.0000, -1.0000, -1.0000, -1.0000, -1.0000],\n         [-1.0000, -1.0000, -1.0000, -1.0000, -1.0000, -1.0000, -1.0000,\n          -1.0000, -1.0000, -1.0000, -1.0000, -1.0000, -0.7255,  0.8902,\n           0.7647,  0.2549, -0.1529, -0.9922, -1.0000, -1.0000, -1.0000,\n          -1.0000, -1.0000, -1.0000, -1.0000, -1.0000, -1.0000, -1.0000],\n         [-1.0000, -1.0000, -1.0000, -1.0000, -1.0000, -1.0000, -1.0000,\n          -1.0000, -1.0000, -1.0000, -1.0000, -1.0000, -1.0000, -0.3647,\n           0.8824,  0.9843,  0.9843, -0.0667, -0.8039, -1.0000, -1.0000,\n          -1.0000, -1.0000, -1.0000, -1.0000, -1.0000, -1.0000, -1.0000],\n         [-1.0000, -1.0000, -1.0000, -1.0000, -1.0000, -1.0000, -1.0000,\n          -1.0000, -1.0000, -1.0000, -1.0000, -1.0000, -1.0000, -1.0000,\n          -0.6471,  0.4588,  0.9843,  0.9843,  0.1765, -0.7882, -1.0000,\n          -1.0000, -1.0000, -1.0000, -1.0000, -1.0000, -1.0000, -1.0000],\n         [-1.0000, -1.0000, -1.0000, -1.0000, -1.0000, -1.0000, -1.0000,\n          -1.0000, -1.0000, -1.0000, -1.0000, -1.0000, -1.0000, -1.0000,\n          -1.0000, -0.8745, -0.2706,  0.9765,  0.9843,  0.4667, -1.0000,\n          -1.0000, -1.0000, -1.0000, -1.0000, -1.0000, -1.0000, -1.0000],\n         [-1.0000, -1.0000, -1.0000, -1.0000, -1.0000, -1.0000, -1.0000,\n          -1.0000, -1.0000, -1.0000, -1.0000, -1.0000, -1.0000, -1.0000,\n          -1.0000, -1.0000, -1.0000,  0.9529,  0.9843,  0.9529, -0.4980,\n          -1.0000, -1.0000, -1.0000, -1.0000, -1.0000, -1.0000, -1.0000],\n         [-1.0000, -1.0000, -1.0000, -1.0000, -1.0000, -1.0000, -1.0000,\n          -1.0000, -1.0000, -1.0000, -1.0000, -1.0000, -1.0000, -1.0000,\n          -0.6392,  0.0196,  0.4353,  0.9843,  0.9843,  0.6235, -0.9843,\n          -1.0000, -1.0000, -1.0000, -1.0000, -1.0000, -1.0000, -1.0000],\n         [-1.0000, -1.0000, -1.0000, -1.0000, -1.0000, -1.0000, -1.0000,\n          -1.0000, -1.0000, -1.0000, -1.0000, -1.0000, -0.6941,  0.1608,\n           0.7961,  0.9843,  0.9843,  0.9843,  0.9608,  0.4275, -1.0000,\n          -1.0000, -1.0000, -1.0000, -1.0000, -1.0000, -1.0000, -1.0000],\n         [-1.0000, -1.0000, -1.0000, -1.0000, -1.0000, -1.0000, -1.0000,\n          -1.0000, -1.0000, -1.0000, -0.8118, -0.1059,  0.7333,  0.9843,\n           0.9843,  0.9843,  0.9843,  0.5765, -0.3882, -1.0000, -1.0000,\n          -1.0000, -1.0000, -1.0000, -1.0000, -1.0000, -1.0000, -1.0000],\n         [-1.0000, -1.0000, -1.0000, -1.0000, -1.0000, -1.0000, -1.0000,\n          -1.0000, -0.8196, -0.4824,  0.6706,  0.9843,  0.9843,  0.9843,\n           0.9843,  0.5529, -0.3647, -0.9843, -1.0000, -1.0000, -1.0000,\n          -1.0000, -1.0000, -1.0000, -1.0000, -1.0000, -1.0000, -1.0000],\n         [-1.0000, -1.0000, -1.0000, -1.0000, -1.0000, -1.0000, -0.8588,\n           0.3412,  0.7176,  0.9843,  0.9843,  0.9843,  0.9843,  0.5294,\n          -0.3725, -0.9294, -1.0000, -1.0000, -1.0000, -1.0000, -1.0000,\n          -1.0000, -1.0000, -1.0000, -1.0000, -1.0000, -1.0000, -1.0000],\n         [-1.0000, -1.0000, -1.0000, -1.0000, -0.5686,  0.3490,  0.7725,\n           0.9843,  0.9843,  0.9843,  0.9843,  0.9137,  0.0431, -0.9137,\n          -1.0000, -1.0000, -1.0000, -1.0000, -1.0000, -1.0000, -1.0000,\n          -1.0000, -1.0000, -1.0000, -1.0000, -1.0000, -1.0000, -1.0000],\n         [-1.0000, -1.0000, -1.0000, -1.0000,  0.0667,  0.9843,  0.9843,\n           0.9843,  0.6627,  0.0588,  0.0353, -0.8745, -1.0000, -1.0000,\n          -1.0000, -1.0000, -1.0000, -1.0000, -1.0000, -1.0000, -1.0000,\n          -1.0000, -1.0000, -1.0000, -1.0000, -1.0000, -1.0000, -1.0000],\n         [-1.0000, -1.0000, -1.0000, -1.0000, -1.0000, -1.0000, -1.0000,\n          -1.0000, -1.0000, -1.0000, -1.0000, -1.0000, -1.0000, -1.0000,\n          -1.0000, -1.0000, -1.0000, -1.0000, -1.0000, -1.0000, -1.0000,\n          -1.0000, -1.0000, -1.0000, -1.0000, -1.0000, -1.0000, -1.0000],\n         [-1.0000, -1.0000, -1.0000, -1.0000, -1.0000, -1.0000, -1.0000,\n          -1.0000, -1.0000, -1.0000, -1.0000, -1.0000, -1.0000, -1.0000,\n          -1.0000, -1.0000, -1.0000, -1.0000, -1.0000, -1.0000, -1.0000,\n          -1.0000, -1.0000, -1.0000, -1.0000, -1.0000, -1.0000, -1.0000],\n         [-1.0000, -1.0000, -1.0000, -1.0000, -1.0000, -1.0000, -1.0000,\n          -1.0000, -1.0000, -1.0000, -1.0000, -1.0000, -1.0000, -1.0000,\n          -1.0000, -1.0000, -1.0000, -1.0000, -1.0000, -1.0000, -1.0000,\n          -1.0000, -1.0000, -1.0000, -1.0000, -1.0000, -1.0000, -1.0000]]],\n       dtype=torch.float64)"
          },
          "metadata": {}
        }
      ]
    },
    {
      "metadata": {
        "trusted": true
      },
      "cell_type": "code",
      "source": "# zmenili sme typ dat na standardny float64\ntrainset[0][0].dtype",
      "execution_count": 12,
      "outputs": [
        {
          "output_type": "execute_result",
          "execution_count": 12,
          "data": {
            "text/plain": "torch.float64"
          },
          "metadata": {}
        }
      ]
    },
    {
      "metadata": {
        "trusted": true
      },
      "cell_type": "code",
      "source": "# teraz potrebujem dataloader, pretoze keby chcem do premennej nacitat velke mnozstvo dat, zjedlo by to privela pamate\n# data musim nasekat na tzv batches\n# data si zamiesam \ntrainloader = torch.utils.data.DataLoader(trainset, batch_size=64,shuffle=True)\ntestloader = torch.utils.data.DataLoader(testset, batch_size=64,shuffle=True)",
      "execution_count": 13,
      "outputs": []
    },
    {
      "metadata": {
        "trusted": true
      },
      "cell_type": "code",
      "source": "dataiter = iter(trainloader)\nimages, labels = dataiter.next()\nlen(images)",
      "execution_count": 14,
      "outputs": [
        {
          "output_type": "execute_result",
          "execution_count": 14,
          "data": {
            "text/plain": "64"
          },
          "metadata": {}
        }
      ]
    },
    {
      "metadata": {
        "trusted": true
      },
      "cell_type": "code",
      "source": "# dimenzia matice je 64, potom je tam nejaka jednorozmerna blbost a 28x28 obrazky\n#images.shape",
      "execution_count": 15,
      "outputs": []
    },
    {
      "metadata": {
        "trusted": true
      },
      "cell_type": "code",
      "source": "# zbytocne dimenzie si vymazem cez squeeze\nimages.squeeze().shape",
      "execution_count": 16,
      "outputs": [
        {
          "output_type": "execute_result",
          "execution_count": 16,
          "data": {
            "text/plain": "torch.Size([64, 28, 28])"
          },
          "metadata": {}
        }
      ]
    },
    {
      "metadata": {
        "trusted": true
      },
      "cell_type": "code",
      "source": "plt.imshow(images[0].squeeze())",
      "execution_count": 17,
      "outputs": [
        {
          "output_type": "execute_result",
          "execution_count": 17,
          "data": {
            "text/plain": "<matplotlib.image.AxesImage at 0x7fe9c8b66fd0>"
          },
          "metadata": {}
        },
        {
          "output_type": "display_data",
          "data": {
            "image/png": "[encoded data removed]",
            "text/plain": "<Figure size 432x288 with 1 Axes>"
          },
          "metadata": {
            "needs_background": "light"
          }
        }
      ]
    },
    {
      "metadata": {
        "trusted": true
      },
      "cell_type": "code",
      "source": "# zobrazim si viac obrazkov\ndef show_images(images, labels, rows,cols):\n    fig, axes = plt.subplots(rows, cols , figsize=(cols , rows))\n    #vsetky podgrafy su teraz ulozene v tejto premennej\n    #tato premenna je dvojrozmerne pole, ktore obsahuje spolu 6x10 podobrazkov\n    for idx in range(0,rows*cols):\n        ridx = idx//cols #celociselne delenie\n        cidx = idx % cols\n    \n        ax = axes[ridx, cidx]\n        ax.imshow(images[idx].squeeze())\n        ax.set_title(\"{}\".format(labels[idx]))\n        ax.axis(\"off\")\n    plt.show()\n    return fig\n    \n        ",
      "execution_count": 18,
      "outputs": []
    },
    {
      "metadata": {
        "trusted": true
      },
      "cell_type": "code",
      "source": "fig = show_images(images,labels, rows=6, cols=10)",
      "execution_count": 19,
      "outputs": [
        {
          "output_type": "display_data",
          "data": {
            "image/png": "[encoded data removed]",
            "text/plain": "<Figure size 720x432 with 60 Axes>"
          },
          "metadata": {
            "needs_background": "light"
          }
        }
      ]
    },
    {
      "metadata": {
        "trusted": true
      },
      "cell_type": "code",
      "source": "# aktualne ale mam k cislu priradeny label. To nechcem, pretoze ja chcem mat na vystupe pravdepodobnosť od 0-9\nx = np.zeros(10)\nprint(x)",
      "execution_count": 20,
      "outputs": [
        {
          "output_type": "stream",
          "text": "[0. 0. 0. 0. 0. 0. 0. 0. 0. 0.]\n",
          "name": "stdout"
        }
      ]
    },
    {
      "metadata": {
        "trusted": true
      },
      "cell_type": "code",
      "source": "x[0]=1.0\nprint(x)",
      "execution_count": 21,
      "outputs": [
        {
          "output_type": "stream",
          "text": "[1. 0. 0. 0. 0. 0. 0. 0. 0. 0.]\n",
          "name": "stdout"
        }
      ]
    },
    {
      "metadata": {
        "trusted": true
      },
      "cell_type": "code",
      "source": "# vytvorim si funkciu, ktora mi tieto labels zmeni na vektory\ndef conv_to_vectors(labels):\n    #na zaciatok si vytvorim docasne pole new_labels a bude to prazdne pole\n    new_labels = []\n    for label in labels:\n        x = np.zeros(10)\n        x[label]=1.0\n        new_labels.append(x)\n    new_labels=torch.from_numpy(np.vstack(new_labels))\n    return new_labels",
      "execution_count": 22,
      "outputs": []
    },
    {
      "metadata": {
        "trusted": true
      },
      "cell_type": "code",
      "source": "labels = conv_to_vectors(labels)\nlabels[3]",
      "execution_count": 23,
      "outputs": [
        {
          "output_type": "execute_result",
          "execution_count": 23,
          "data": {
            "text/plain": "tensor([0., 1., 0., 0., 0., 0., 0., 0., 0., 0.], dtype=torch.float64)"
          },
          "metadata": {}
        }
      ]
    },
    {
      "metadata": {
        "trusted": true
      },
      "cell_type": "code",
      "source": "# kniznica obsahuje vela funkcii pre neuronove siete\nimport torch.nn as nn",
      "execution_count": 24,
      "outputs": []
    },
    {
      "metadata": {
        "trusted": true
      },
      "cell_type": "code",
      "source": "INPUT_SIZE = 28*28\nHIDDEN1_SIZE = 128\nHIDDEN2_SIZE = 64\nOUTPUT_SIZE = 10",
      "execution_count": 25,
      "outputs": []
    },
    {
      "metadata": {
        "trusted": true
      },
      "cell_type": "code",
      "source": "# vytvorim si triedu, ktora bude dedit z nn.Module\n# ked dedime z tejto triedy musime menit iba zopar funkcii a to konstruktor a funkciu forward\nclass DigiNet(nn.Module):\n    def __init__(self):\n            # musim zavolat originalny konstruktor\n            super(DigiNet, self).__init__()\n            # vytvorim prvu vrstvu. Linear trieda reprezentuje linearnu transformaciu - pocitanie hodnoty neuronu (vahy x hodnoty neuronu + bias)\n            # ibaze v tomto pripade to reprezentuje celu jednu vrstvu. nn.Linear reprezentuje prechod medzi prvou a druhou vrstvou. \n            # Tato trieda v sebe obsahuje aj vahy, aj bias a vie pocitat hodnoty tych nasledovnych neuronov, cize takto je to zaobalene do tej jednej triedy.\n            # Spravim to pre prvy, druhy a treti prechod a tak ziskam tri prechody medzi tymito vrstvami\n            # vsetky linearne transformacie sa mi ulozia do triedy self, cize ked vytvorim instanciu DigiNet, budem mat ulozene tieto jednotlive prechody\n            self.input_layer_weights=nn.Linear(INPUT_SIZE, HIDDEN1_SIZE)\n            self.hidden_layer1_weights=nn.Linear(HIDDEN1_SIZE, HIDDEN2_SIZE)\n            self.hidden_layer2_weights=nn.Linear(HIDDEN2_SIZE, OUTPUT_SIZE)\n            \n            # nepouzijem funkiu sigmoid ale pouzijem relu lebo je menej vypoctovo narocna a presnejsia pri viacvrstvovych sietach\n            # pre mensiu hodnotu ako 0 vráti 0 a pre vacsiu vrati tu danu hodnotu\n            self.act1=nn.ReLU()\n            self.act2=nn.ReLU()\n            # softmax vytvori pravdepodobnostnu distribuciu\n            # zabezpecuje ze pravdepodobnost 100 % sa rozdeli medzi cisla\n            self.act3=nn.Softmax(dim=1)\n            \n            # tak ako sme prevadzali obrazky na float64, musime to urobit aj s modelom\n            self.double()\n            \n    def forward(self,x):\n            x = self.input_layer_weights(x)\n            x = self.act1(x)\n            \n            x = self.hidden_layer1_weights(x)\n            x = self.act2(x)\n            \n            x = self.hidden_layer2_weights(x)\n            x = self.act3(x)\n            \n            return x\n                ",
      "execution_count": 26,
      "outputs": []
    },
    {
      "metadata": {
        "trusted": true
      },
      "cell_type": "code",
      "source": "instancia neuronovej siete\nmodel = DigiNet()",
      "execution_count": null,
      "outputs": []
    },
    {
      "metadata": {
        "trusted": true
      },
      "cell_type": "code",
      "source": "#obrazky mam sice 28x28 ale vstup je jednorozmerny vektor 768 cize potrebujem reshape\ntest = np.zeros((3,4))\nprint(\"pred reshapom: \",test)\ntest = test.reshape(1,12)\nprint(\"po reshape: \",test)",
      "execution_count": 28,
      "outputs": [
        {
          "output_type": "stream",
          "text": "pred reshapom:  [[0. 0. 0. 0.]\n [0. 0. 0. 0.]\n [0. 0. 0. 0.]]\npo reshape:  [[0. 0. 0. 0. 0. 0. 0. 0. 0. 0. 0. 0.]]\n",
          "name": "stdout"
        }
      ]
    },
    {
      "metadata": {
        "trusted": true
      },
      "cell_type": "code",
      "source": "# view je to iste co reshape ale je to lepsie pretoze nekopiruje celu maticu len meni nahlad na data a teda neplytvam pamatou\nimages = images.view(images.shape[0],-1)\nimages.shape",
      "execution_count": 29,
      "outputs": [
        {
          "output_type": "execute_result",
          "execution_count": 29,
          "data": {
            "text/plain": "torch.Size([64, 784])"
          },
          "metadata": {}
        }
      ]
    },
    {
      "metadata": {
        "trusted": true
      },
      "cell_type": "code",
      "source": "# mohla by som zavolat aj forward.shape ale takto je to lepsie lebo taketo volanie robi na pozadi este aj ine operacie\npredikcie= model(images)",
      "execution_count": 30,
      "outputs": []
    },
    {
      "metadata": {
        "trusted": true
      },
      "cell_type": "code",
      "source": "# pre kazde cislo nejaka pravdepodobnost. Momentalne to nie je nic zmysluplne, vahy su nahodne inicializovane\npredikcie[0]",
      "execution_count": 31,
      "outputs": [
        {
          "output_type": "execute_result",
          "execution_count": 31,
          "data": {
            "text/plain": "tensor([0.0899, 0.0930, 0.0895, 0.1002, 0.1157, 0.1029, 0.0941, 0.1215, 0.1048,\n        0.0884], dtype=torch.float64, grad_fn=<SelectBackward>)"
          },
          "metadata": {}
        }
      ]
    },
    {
      "metadata": {
        "trusted": true
      },
      "cell_type": "code",
      "source": "# overim si, ci vsetky vahy davaju dokopy jednotku (100%)\nprint(predikcie[0].sum())\nprint(predikcie[1].sum())\nprint(predikcie[2].sum())",
      "execution_count": 32,
      "outputs": [
        {
          "output_type": "stream",
          "text": "tensor(1., dtype=torch.float64, grad_fn=<SumBackward0>)\ntensor(1.0000, dtype=torch.float64, grad_fn=<SumBackward0>)\ntensor(1., dtype=torch.float64, grad_fn=<SumBackward0>)\n",
          "name": "stdout"
        }
      ]
    },
    {
      "metadata": {
        "trusted": true
      },
      "cell_type": "code",
      "source": "# idem pocitat mean square error\nmse = nn.MSELoss()\n#argumentmi su predikcie a ocakavane vystupy\nloss = mse(predikcie, labels)\nprint(loss)",
      "execution_count": 33,
      "outputs": [
        {
          "output_type": "stream",
          "text": "tensor(0.0898, dtype=torch.float64, grad_fn=<MseLossBackward>)\n",
          "name": "stdout"
        }
      ]
    },
    {
      "metadata": {
        "trusted": true
      },
      "cell_type": "code",
      "source": "weights = model.parameters()\nprint(list(weights))",
      "execution_count": 34,
      "outputs": [
        {
          "output_type": "stream",
          "text": "[Parameter containing:\ntensor([[ 0.0304, -0.0194, -0.0193,  ...,  0.0169,  0.0118,  0.0097],\n        [-0.0105,  0.0089,  0.0067,  ...,  0.0008, -0.0322, -0.0282],\n        [-0.0119, -0.0269, -0.0343,  ...,  0.0104, -0.0022, -0.0336],\n        ...,\n        [-0.0342,  0.0207,  0.0295,  ..., -0.0230, -0.0135, -0.0053],\n        [ 0.0354,  0.0124,  0.0075,  ...,  0.0348,  0.0314, -0.0329],\n        [-0.0088,  0.0317,  0.0110,  ..., -0.0198, -0.0184,  0.0017]],\n       dtype=torch.float64, requires_grad=True), Parameter containing:\ntensor([-3.4450e-02,  2.7748e-02, -2.9565e-02,  3.5314e-02, -3.1857e-02,\n         2.7427e-02, -1.3748e-02,  3.1512e-02,  2.0879e-04, -2.1447e-02,\n         2.8341e-03,  2.4326e-02, -1.7057e-02, -2.6678e-02, -2.3617e-02,\n         7.7156e-03, -2.6910e-02, -2.1648e-02,  1.7022e-02,  3.2370e-02,\n         8.0570e-03,  2.6228e-02,  5.5198e-03, -1.2079e-02, -2.1367e-02,\n        -2.6913e-02, -5.1559e-03,  1.3553e-02, -4.7147e-03, -4.6231e-03,\n         8.7917e-03, -3.2993e-02, -3.3512e-03,  2.1048e-02, -1.9014e-02,\n         1.8192e-02,  3.1407e-02, -2.6655e-02, -2.3566e-02, -1.9253e-02,\n        -9.5685e-03, -2.7221e-02, -1.4906e-02,  2.1167e-02, -1.9689e-02,\n        -1.2247e-02, -2.6295e-02, -3.4577e-02,  2.1149e-02, -2.6349e-02,\n         1.8266e-02,  2.8900e-04,  3.5546e-02, -3.2782e-02, -3.4531e-02,\n         2.9811e-02,  5.8424e-03,  4.0866e-06, -1.5914e-02,  2.5214e-02,\n         1.2649e-02,  3.1475e-02,  1.4315e-02, -1.0023e-02, -7.0805e-03,\n        -5.1236e-03, -1.2245e-02,  6.9229e-03,  3.5202e-02,  3.3639e-02,\n         7.1731e-03, -2.5633e-02,  1.3514e-02,  5.2549e-03,  7.1925e-03,\n        -2.6350e-02, -1.5263e-02,  1.9708e-02, -7.9245e-03, -2.0079e-02,\n        -7.2986e-05,  1.9600e-02, -2.6431e-02,  1.4003e-02, -7.8780e-03,\n         2.3893e-02,  1.5934e-02, -1.6591e-02,  3.0195e-02,  7.0883e-03,\n         9.0324e-03,  3.3434e-02, -1.3389e-02,  2.1817e-02,  4.7607e-03,\n        -7.6829e-03,  2.4107e-02,  3.3506e-02, -1.2840e-02,  3.6675e-04,\n         2.8956e-02, -1.3065e-02,  1.7559e-02,  8.1120e-03,  3.3824e-02,\n        -3.3200e-02,  1.5103e-02, -1.5311e-02,  1.7129e-03,  1.3829e-02,\n         2.3470e-02,  2.9367e-02, -1.5027e-02, -1.1511e-02,  3.4169e-02,\n         2.6468e-02, -6.1090e-03,  2.6666e-02, -3.0554e-02, -2.1768e-02,\n        -2.2701e-02,  1.5671e-02, -2.0646e-02,  2.2544e-02, -2.4086e-02,\n         1.6495e-02,  1.6604e-02, -3.3456e-02], dtype=torch.float64,\n       requires_grad=True), Parameter containing:\ntensor([[-0.0767, -0.0650, -0.0608,  ..., -0.0336,  0.0385, -0.0711],\n        [ 0.0063, -0.0711,  0.0784,  ..., -0.0752, -0.0758, -0.0634],\n        [-0.0013, -0.0704,  0.0062,  ..., -0.0205,  0.0131, -0.0127],\n        ...,\n        [ 0.0329,  0.0144,  0.0365,  ...,  0.0796, -0.0381, -0.0389],\n        [-0.0827, -0.0330,  0.0489,  ..., -0.0835,  0.0351, -0.0442],\n        [-0.0056,  0.0346, -0.0814,  ..., -0.0007,  0.0374,  0.0674]],\n       dtype=torch.float64, requires_grad=True), Parameter containing:\ntensor([-0.0698, -0.0716, -0.0255,  0.0119,  0.0636, -0.0525,  0.0740, -0.0078,\n        -0.0010, -0.0879, -0.0676, -0.0336,  0.0427,  0.0778,  0.0233,  0.0540,\n        -0.0460,  0.0649,  0.0254,  0.0035, -0.0221,  0.0865,  0.0143, -0.0818,\n         0.0474,  0.0522, -0.0877,  0.0593, -0.0547, -0.0265,  0.0513, -0.0582,\n         0.0709, -0.0282, -0.0405,  0.0504,  0.0472, -0.0656, -0.0343,  0.0620,\n        -0.0040, -0.0538, -0.0088,  0.0710,  0.0166,  0.0194,  0.0141, -0.0025,\n         0.0679,  0.0486,  0.0879, -0.0635, -0.0019, -0.0741,  0.0024, -0.0330,\n         0.0056,  0.0160, -0.0779,  0.0152,  0.0420, -0.0372,  0.0843, -0.0670],\n       dtype=torch.float64, requires_grad=True), Parameter containing:\ntensor([[ 0.0386,  0.0363,  0.0158,  0.0412,  0.0382,  0.0626,  0.0880, -0.0742,\n          0.0822, -0.0398,  0.0769, -0.1133, -0.0048,  0.0123,  0.0680,  0.1206,\n          0.0952, -0.1053,  0.0304, -0.0281, -0.0554, -0.0032,  0.1142, -0.0678,\n         -0.0951,  0.0136, -0.0232, -0.0927,  0.0293, -0.0137,  0.0719, -0.0920,\n         -0.0830, -0.0974, -0.0963,  0.0821,  0.0392, -0.0484, -0.0400,  0.0317,\n          0.0215, -0.0442,  0.0453, -0.0867, -0.0476, -0.0640,  0.0676,  0.0093,\n         -0.0295,  0.0856,  0.0260, -0.0379,  0.0672,  0.0391, -0.0566,  0.0502,\n          0.0405,  0.0575, -0.0888, -0.0265, -0.0298,  0.0643,  0.0261, -0.0772],\n        [-0.1197,  0.1130,  0.0924, -0.0638, -0.0558, -0.1142,  0.1014,  0.0090,\n          0.0691,  0.0613,  0.0536,  0.1151, -0.0514, -0.0283, -0.0472,  0.0349,\n          0.0832,  0.0994,  0.1232, -0.0520,  0.0958,  0.1178, -0.0046,  0.0837,\n         -0.0926, -0.0472,  0.0840, -0.0393,  0.0419,  0.0634, -0.1149, -0.0188,\n         -0.0515, -0.1093, -0.0255, -0.0873,  0.0478,  0.0691,  0.0060,  0.0009,\n          0.0358, -0.0694,  0.0716, -0.0814,  0.0749,  0.0251,  0.0548, -0.0993,\n         -0.1101,  0.0964,  0.0949,  0.0145,  0.0915, -0.0439, -0.0112,  0.1188,\n          0.0594,  0.0989,  0.1192, -0.0431,  0.0518, -0.1091,  0.0642, -0.0073],\n        [ 0.0261,  0.0010, -0.0249,  0.0021,  0.0705,  0.0933, -0.0511, -0.0399,\n          0.0350, -0.0975, -0.0435,  0.1061,  0.1001,  0.0681,  0.0396, -0.0011,\n          0.0999, -0.1232,  0.0372,  0.0339,  0.0033, -0.0426,  0.0169, -0.0628,\n         -0.0772,  0.0586, -0.0504, -0.1109,  0.0663, -0.0160,  0.0067,  0.1246,\n          0.0637, -0.0856,  0.0596, -0.0135,  0.0151, -0.0050,  0.1052,  0.0815,\n          0.0391,  0.0985, -0.0401,  0.0760, -0.0085,  0.0771,  0.0131,  0.0600,\n         -0.0137, -0.0024,  0.0139, -0.0642, -0.0390, -0.0735,  0.0777, -0.1146,\n         -0.0801, -0.0677, -0.0559, -0.1223, -0.0068, -0.0317, -0.0145,  0.0108],\n        [ 0.0561,  0.0493, -0.0123,  0.0711, -0.0584, -0.0164,  0.1046, -0.0152,\n         -0.0319,  0.0982,  0.1180,  0.0095, -0.0255, -0.1182,  0.1105, -0.0137,\n         -0.0706,  0.0717, -0.0606, -0.0795,  0.0623,  0.0619, -0.0758, -0.0743,\n          0.0546, -0.0720, -0.0777,  0.0123, -0.0026,  0.0604,  0.1008,  0.0837,\n         -0.0311, -0.0103,  0.0559,  0.0574,  0.0153, -0.0167,  0.0854, -0.1118,\n         -0.0382,  0.0300,  0.0142, -0.0785,  0.0216,  0.0631,  0.0644,  0.0086,\n          0.0713,  0.0205, -0.0833,  0.0966,  0.1130,  0.1104, -0.0701, -0.0974,\n         -0.0353,  0.1227, -0.0139,  0.0295,  0.0830,  0.0511, -0.0832,  0.0155],\n        [-0.0237, -0.0882, -0.0501,  0.0786,  0.0876,  0.0218, -0.0936, -0.0223,\n          0.0887,  0.0564,  0.0194,  0.0716,  0.0257, -0.0685, -0.0754, -0.0706,\n         -0.0213, -0.0337, -0.0394, -0.0341, -0.0856, -0.0645,  0.0266, -0.0092,\n         -0.0546, -0.1158, -0.0351,  0.0416, -0.0832, -0.0990, -0.0084,  0.0750,\n          0.0137, -0.0802, -0.0837,  0.0931,  0.0820,  0.0746, -0.0143,  0.0367,\n          0.0107, -0.0174, -0.1139,  0.0117,  0.0785,  0.0735,  0.0209,  0.0793,\n          0.0201, -0.0067,  0.0037,  0.0028,  0.1019, -0.1150,  0.1075,  0.0471,\n          0.0014,  0.0978,  0.0742,  0.1179,  0.0282, -0.0982,  0.0180,  0.0529],\n        [ 0.1202, -0.1205,  0.0685,  0.0899, -0.0379, -0.0464, -0.0364, -0.0192,\n          0.0558, -0.0491, -0.0685,  0.0644, -0.0065,  0.1245, -0.0352, -0.0311,\n         -0.1233,  0.0053, -0.0708, -0.0657, -0.1200, -0.0778, -0.1215, -0.0834,\n         -0.0982, -0.0721, -0.0340,  0.1100, -0.0002,  0.0625, -0.0575,  0.0924,\n          0.1175, -0.0002, -0.0267,  0.0280, -0.0117, -0.0345,  0.0746,  0.0969,\n          0.0988,  0.0824, -0.0743,  0.0054, -0.0931, -0.1161,  0.0098,  0.0774,\n         -0.0363,  0.0923,  0.1171, -0.0937, -0.0527,  0.0846, -0.0918, -0.0061,\n          0.1140, -0.0509, -0.1229,  0.0045, -0.0178, -0.0619,  0.0315, -0.0338],\n        [ 0.0137,  0.1052, -0.1127,  0.1004,  0.0739, -0.0400,  0.0701, -0.1126,\n         -0.0470,  0.0829, -0.0598,  0.0862,  0.1141, -0.0346,  0.0946, -0.0044,\n          0.0320, -0.1043,  0.0255,  0.0816,  0.0755,  0.0058, -0.0284, -0.0798,\n         -0.1146,  0.0835, -0.1064,  0.0824,  0.0324,  0.0911, -0.0315,  0.0798,\n         -0.0977,  0.1057,  0.0087, -0.0022,  0.0724,  0.0803,  0.0682,  0.0403,\n         -0.0423,  0.0141, -0.1171, -0.1239, -0.0942,  0.0433,  0.0792, -0.0537,\n         -0.0279,  0.0546, -0.0495, -0.0134,  0.0499,  0.1031,  0.0532, -0.0629,\n         -0.0428,  0.0921, -0.0754,  0.0124, -0.0384, -0.1213,  0.0575, -0.0895],\n        [ 0.0249,  0.0420, -0.0605,  0.0680,  0.0655, -0.1131,  0.0869,  0.0570,\n         -0.0034,  0.0359, -0.0791,  0.0731,  0.1052, -0.0753,  0.0934,  0.1069,\n         -0.0221, -0.0910,  0.0932, -0.1120,  0.0670,  0.1159, -0.0095,  0.0530,\n         -0.0942, -0.0398,  0.0725, -0.0015,  0.0650,  0.0836,  0.0653,  0.0598,\n          0.0794, -0.0336, -0.0791, -0.0039,  0.0421,  0.0485, -0.0747,  0.1060,\n          0.0562,  0.0797,  0.0520,  0.0227,  0.1093, -0.1158,  0.0916, -0.0181,\n         -0.0257,  0.0187, -0.1037,  0.0805,  0.0740, -0.0462,  0.1191, -0.0395,\n         -0.1205,  0.0138, -0.0288,  0.0948, -0.0346,  0.0155, -0.0214,  0.0337],\n        [-0.0460, -0.1056,  0.0585,  0.0545,  0.1204,  0.0056,  0.1137,  0.0535,\n          0.0679, -0.1035, -0.0409, -0.0322, -0.0816,  0.0252,  0.1136, -0.0151,\n         -0.0816,  0.0092, -0.0869,  0.1217,  0.0138,  0.1215,  0.0428, -0.0073,\n         -0.0475,  0.0950, -0.1204, -0.0543,  0.0496, -0.0210,  0.0149,  0.0623,\n         -0.0743, -0.0677, -0.0062,  0.1136, -0.0703, -0.0203,  0.0437, -0.1235,\n          0.0579, -0.0277,  0.0714, -0.0686, -0.1154,  0.0203, -0.1196, -0.0597,\n         -0.0272,  0.0446,  0.1211, -0.0707, -0.0103, -0.1089,  0.0887, -0.0606,\n         -0.0799,  0.0644, -0.1085,  0.1241,  0.0829, -0.1121,  0.0932, -0.1142],\n        [ 0.0688,  0.0830, -0.0528,  0.0794, -0.1231, -0.0766,  0.0095,  0.0561,\n         -0.1210, -0.0305,  0.0329,  0.0673, -0.0567, -0.0503,  0.0549, -0.1038,\n         -0.1101, -0.0117,  0.0073,  0.0340, -0.0611, -0.0110,  0.0335, -0.1157,\n          0.0867, -0.0086,  0.0338,  0.0708,  0.0522,  0.0808, -0.0932, -0.0195,\n          0.1178,  0.1250, -0.0166, -0.0828,  0.0193, -0.1188, -0.0811,  0.0067,\n         -0.0049,  0.0475,  0.1055,  0.0685,  0.1077, -0.1146, -0.0082, -0.0265,\n          0.0557, -0.0251, -0.0949,  0.0039,  0.1196,  0.1197, -0.0860, -0.0943,\n         -0.0973, -0.0967, -0.1213, -0.0977, -0.0806, -0.0950,  0.1164,  0.0917]],\n       dtype=torch.float64, requires_grad=True), Parameter containing:\ntensor([-0.1121, -0.0777, -0.0936, -0.0480,  0.0736, -0.0091, -0.0220,  0.1116,\n         0.0345, -0.0202], dtype=torch.float64, requires_grad=True)]\n",
          "name": "stdout"
        }
      ]
    },
    {
      "metadata": {
        "trusted": true
      },
      "cell_type": "code",
      "source": "# idem pocitat gradient tychto vah \n# gradient pripocitam k danej vahe v malych epochach\n# pouzijem algoritmus backpropagation lebo zapisat tieto vsetky vahy by bolo tazke\n# pre posledny layer viem povedat, ake zmeny by sa mali udiat, aby sme dostali lepsie vysledky.\n# niektore zmeny treba posunut hore a niektore dolu\nloss.backward()",
      "execution_count": 35,
      "outputs": []
    },
    {
      "metadata": {
        "trusted": true
      },
      "cell_type": "code",
      "source": "#vypocty nerobime pre kazde cislo lebo by to bolo vypoctovo narocne a kvoli tomu sme pouzivali batches",
      "execution_count": 36,
      "outputs": []
    },
    {
      "metadata": {
        "trusted": true
      },
      "cell_type": "code",
      "source": "from torch import optim",
      "execution_count": 37,
      "outputs": []
    },
    {
      "metadata": {
        "trusted": true
      },
      "cell_type": "code",
      "source": "#moj aktualny shape\nprint (images.shape)",
      "execution_count": 38,
      "outputs": [
        {
          "output_type": "stream",
          "text": "torch.Size([64, 784])\n",
          "name": "stdout"
        }
      ]
    },
    {
      "metadata": {
        "trusted": true
      },
      "cell_type": "code",
      "source": "def train_model(model, epochs=15, lr=0.0035, momentum=0.7):\n    sgd = optim.SGD(model.parameters(), lr=lr, momentum=momentum)\n    mse = nn.MSELoss()\n    for epoch in range(epochs):\n        _loss = 0\n        for images, labels in trainloader:\n            images = images.view(images.shape[0], -1)\n            sgd.zero_grad()\n            preds = model(images)\n            labels = conv_to_vectors(labels)\n            loss = mse(preds, labels)\n            loss.backward()\n        \n            # teraz cukneme tie váhy správnym smerom\n            sgd.step()\n            _loss += loss.item()\n        else:\n            print(\"Epoch {} - training loss: {}\".format(\n                epoch, _loss/len(trainloader)))\n    return model",
      "execution_count": 39,
      "outputs": []
    },
    {
      "metadata": {
        "trusted": true
      },
      "cell_type": "markdown",
      "source": "model = train_model(model)\n#mozem vidiet ze chyba sa mi postupne zmensila"
    },
    {
      "metadata": {
        "trusted": true
      },
      "cell_type": "code",
      "source": "preds = model(images)",
      "execution_count": 41,
      "outputs": []
    },
    {
      "metadata": {
        "trusted": true
      },
      "cell_type": "code",
      "source": "preds[0]",
      "execution_count": 42,
      "outputs": [
        {
          "output_type": "execute_result",
          "execution_count": 42,
          "data": {
            "text/plain": "tensor([0.0584, 0.0015, 0.0030, 0.0085, 0.0082, 0.0235, 0.0014, 0.8477, 0.0031,\n        0.0448], dtype=torch.float64, grad_fn=<SelectBackward>)"
          },
          "metadata": {}
        }
      ]
    },
    {
      "metadata": {
        "trusted": true
      },
      "cell_type": "code",
      "source": "#vrati index najvacsej pravdepodobnosti tohto desat clenneho vektoru\npreds[0].argmax()",
      "execution_count": 43,
      "outputs": [
        {
          "output_type": "execute_result",
          "execution_count": 43,
          "data": {
            "text/plain": "tensor(7)"
          },
          "metadata": {}
        }
      ]
    },
    {
      "metadata": {
        "trusted": true
      },
      "cell_type": "code",
      "source": "\"{:%}\".format(0.3587)",
      "execution_count": 44,
      "outputs": [
        {
          "output_type": "execute_result",
          "execution_count": 44,
          "data": {
            "text/plain": "'35.870000%'"
          },
          "metadata": {}
        }
      ]
    },
    {
      "metadata": {
        "trusted": true
      },
      "cell_type": "code",
      "source": "plt.imshow(images[0].view(28,28))\nplt.show()",
      "execution_count": 45,
      "outputs": [
        {
          "output_type": "display_data",
          "data": {
            "image/png": "[encoded data removed]",
            "text/plain": "<Figure size 432x288 with 1 Axes>"
          },
          "metadata": {
            "needs_background": "light"
          }
        }
      ]
    },
    {
      "metadata": {
        "trusted": true
      },
      "cell_type": "code",
      "source": "preds[7]\nprint(preds[7].argmax())\nplt.imshow(images[7].view(28,28))\nplt.show()",
      "execution_count": 46,
      "outputs": [
        {
          "output_type": "stream",
          "text": "tensor(4)\n",
          "name": "stdout"
        },
        {
          "output_type": "display_data",
          "data": {
            "image/png": "[encoded data removed]",
            "text/plain": "<Figure size 432x288 with 1 Axes>"
          },
          "metadata": {
            "needs_background": "light"
          }
        }
      ]
    },
    {
      "metadata": {
        "trusted": true
      },
      "cell_type": "code",
      "source": "# teraz idem vyhodnotit ci je siet dobra alebo zla, kde ma nedostatky\n# siet som trenovala na datasete MNIST. Ten obsahuje 60k trenovacich a 10k testovacich vzoriek\n# ked sme robili gradient descent pri linearnej regresii, spravili sme graf, pri ktorom sme videli ako  chyba postupne klesala\n# upravim si teda funkciu ucenia tak, ze tam pridam pole chyb a v else vetve vypocitam priemernu chybu\ndef train_model(model, epochs=15, lr=0.0035, momentum=0.7):\n    sgd = optim.SGD(model.parameters(), lr=lr, momentum=momentum)\n    mse = nn.MSELoss()\n    losses = []\n    for epoch in range(epochs):\n        _loss = 0\n        for images, labels in trainloader:\n            images = images.view(images.shape[0], -1)\n            sgd.zero_grad()\n            preds = model(images)\n            labels = conv_to_vectors(labels)\n            loss = mse(preds, labels)\n            loss.backward()\n        \n            # teraz cukneme tie váhy správnym smerom\n            sgd.step()\n            _loss += loss.item()\n        else:\n            avg_loss=_loss/len(trainloader)\n            losses.append(avg_loss)\n            print(\"Epoch {} - training loss: {}\".format(\n                epoch, _loss/len(trainloader)))\n    return model, losses\n",
      "execution_count": 91,
      "outputs": []
    },
    {
      "metadata": {
        "trusted": true
      },
      "cell_type": "code",
      "source": "model = DigiNet()\nmodel,losses=train_model(model, epochs=50, lr=0.0035,momentum=0.7)",
      "execution_count": 52,
      "outputs": [
        {
          "output_type": "stream",
          "text": "Epoch 0 - training loss: 0.0895004113206829\nEpoch 1 - training loss: 0.08843526118607582\nEpoch 2 - training loss: 0.08709916989075593\nEpoch 3 - training loss: 0.08506947035878416\nEpoch 4 - training loss: 0.08183207584968984\nEpoch 5 - training loss: 0.07727111333452157\nEpoch 6 - training loss: 0.07149573501381797\nEpoch 7 - training loss: 0.06461225616210498\nEpoch 8 - training loss: 0.0576525174250048\nEpoch 9 - training loss: 0.05067771744925597\nEpoch 10 - training loss: 0.0438525915496983\nEpoch 11 - training loss: 0.038138428873959525\nEpoch 12 - training loss: 0.0336992755827901\nEpoch 13 - training loss: 0.030222379394195375\nEpoch 14 - training loss: 0.027486734058723844\nEpoch 15 - training loss: 0.025361720313902714\nEpoch 16 - training loss: 0.02367663725762051\nEpoch 17 - training loss: 0.022347100658735883\nEpoch 18 - training loss: 0.021254139324827368\nEpoch 19 - training loss: 0.020368168139233242\nEpoch 20 - training loss: 0.019626652862862443\nEpoch 21 - training loss: 0.01900022609227103\nEpoch 22 - training loss: 0.01844929925423399\nEpoch 23 - training loss: 0.017979608072270503\nEpoch 24 - training loss: 0.017567919267999953\nEpoch 25 - training loss: 0.017197814895543784\nEpoch 26 - training loss: 0.016864249923601034\nEpoch 27 - training loss: 0.016568808413661405\nEpoch 28 - training loss: 0.016293563809781437\nEpoch 29 - training loss: 0.016041927904195532\nEpoch 30 - training loss: 0.01581694345694365\nEpoch 31 - training loss: 0.01560792922462697\nEpoch 32 - training loss: 0.015415308721941277\nEpoch 33 - training loss: 0.015235845492917802\nEpoch 34 - training loss: 0.015057533164953603\nEpoch 35 - training loss: 0.014892511642768683\nEpoch 36 - training loss: 0.01475379862289532\nEpoch 37 - training loss: 0.014607664462800266\nEpoch 38 - training loss: 0.014468846282137422\nEpoch 39 - training loss: 0.014345206209658243\nEpoch 40 - training loss: 0.014220572672055084\nEpoch 41 - training loss: 0.014108790659780181\nEpoch 42 - training loss: 0.013996224571110173\nEpoch 43 - training loss: 0.013894974029638215\nEpoch 44 - training loss: 0.013791006209835425\nEpoch 45 - training loss: 0.013697695893135374\nEpoch 46 - training loss: 0.013599819526883185\nEpoch 47 - training loss: 0.013512988416216015\nEpoch 48 - training loss: 0.013427475664975905\nEpoch 49 - training loss: 0.01334098165336403\n",
          "name": "stdout"
        }
      ]
    },
    {
      "metadata": {
        "trusted": true
      },
      "cell_type": "code",
      "source": "def plot_loss(losses):\n        fig = plt.figure()\n        plt.plot(losses,color=\"g\")\n        \n        plt.ylim(bottom=0,top=0.1)\n        plt.xlabel(\"epoch\")\n        plt.ylabel(\"loss\")\n        plt.show()\n        return fig",
      "execution_count": 89,
      "outputs": []
    },
    {
      "metadata": {
        "trusted": true
      },
      "cell_type": "code",
      "source": "fig = plot_loss(losses)",
      "execution_count": 90,
      "outputs": [
        {
          "output_type": "display_data",
          "data": {
            "image/png": "[encoded data removed]",
            "text/plain": "<Figure size 432x288 with 1 Axes>"
          },
          "metadata": {
            "needs_background": "light"
          }
        }
      ]
    },
    {
      "metadata": {
        "trusted": true
      },
      "cell_type": "code",
      "source": "model = DigiNet()\nmodel,losses=train_model(model, epochs=5, lr=0.0035,momentum=0.7)",
      "execution_count": 92,
      "outputs": [
        {
          "output_type": "stream",
          "text": "Epoch 0 - training loss: 0.08966172427386578\nEpoch 1 - training loss: 0.08860785229656841\nEpoch 2 - training loss: 0.08712660648086275\nEpoch 3 - training loss: 0.08469203634768252\nEpoch 4 - training loss: 0.08104545729218111\n",
          "name": "stdout"
        }
      ]
    },
    {
      "metadata": {
        "trusted": true
      },
      "cell_type": "code",
      "source": "fig = plot_loss(losses)",
      "execution_count": 93,
      "outputs": [
        {
          "output_type": "display_data",
          "data": {
            "image/png": "[encoded data removed]",
            "text/plain": "<Figure size 432x288 with 1 Axes>"
          },
          "metadata": {
            "needs_background": "light"
          }
        }
      ]
    },
    {
      "metadata": {
        "trusted": true
      },
      "cell_type": "code",
      "source": "",
      "execution_count": null,
      "outputs": []
    }
  ],
  "metadata": {
    "kernelspec": {
      "name": "python36",
      "display_name": "Python 3.6",
      "language": "python"
    },
    "language_info": {
      "mimetype": "text/x-python",
      "nbconvert_exporter": "python",
      "name": "python",
      "pygments_lexer": "ipython3",
      "version": "3.6.6",
      "file_extension": ".py",
      "codemirror_mode": {
        "version": 3,
        "name": "ipython"
      }
    }
  },
  "nbformat": 4,
  "nbformat_minor": 2
}