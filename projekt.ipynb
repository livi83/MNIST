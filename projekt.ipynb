{
  "cells": [
    {
      "metadata": {
        "trusted": true
      },
      "cell_type": "code",
      "source": "%matplotlib inline\nimport numpy as np\nimport pandas as pd\nimport torch\nimport matplotlib.pyplot as plt\n\nimport torchvision.datasets as datasets\nimport torchvision.transforms as transforms",
      "execution_count": 1,
      "outputs": []
    },
    {
      "metadata": {
        "trusted": true
      },
      "cell_type": "code",
      "source": "# Obrazok 28x28 ma spolu 784 px a tie budu vstupnou vrstvou (784 neuronov)\n# Prvy skryty layer 128\n# Druhy skryty layer 64\n# na vystupe 10 neuronov (od 0-9)\n",
      "execution_count": 2,
      "outputs": []
    },
    {
      "metadata": {
        "trusted": true
      },
      "cell_type": "code",
      "source": "trainset = datasets.MNIST(\"neuronove_siete_projekt\",download=True,train=True)",
      "execution_count": 3,
      "outputs": []
    },
    {
      "metadata": {
        "trusted": true
      },
      "cell_type": "code",
      "source": "testset = datasets.MNIST(\"neuronove_siete_projekt\",download=True,train=False)",
      "execution_count": 4,
      "outputs": []
    },
    {
      "metadata": {
        "trusted": true
      },
      "cell_type": "code",
      "source": "print(\"trainset {}\".format(len(trainset)))\nprint(\"testset {}\".format(len(testset)))",
      "execution_count": 5,
      "outputs": [
        {
          "output_type": "stream",
          "text": "trainset 60000\ntestset 10000\n",
          "name": "stdout"
        }
      ]
    },
    {
      "metadata": {
        "trusted": true
      },
      "cell_type": "code",
      "source": "print(trainset[0])",
      "execution_count": 6,
      "outputs": [
        {
          "output_type": "stream",
          "text": "(<PIL.Image.Image image mode=L size=28x28 at 0x7F61987B1438>, 5)\n",
          "name": "stdout"
        }
      ]
    },
    {
      "metadata": {
        "trusted": true
      },
      "cell_type": "code",
      "source": "trainset[0][0]",
      "execution_count": 7,
      "outputs": [
        {
          "output_type": "execute_result",
          "execution_count": 7,
          "data": {
            "image/png": "[encoded data removed]",
            "text/plain": "<PIL.Image.Image image mode=L size=28x28 at 0x7F61986E96A0>"
          },
          "metadata": {}
        }
      ]
    },
    {
      "metadata": {
        "trusted": true
      },
      "cell_type": "code",
      "source": "img = trainset[0][0]\nimg_data=img.getdata()\nprint(\"min: {}\".format(min(img_data)))\nprint(\"max: {}\".format(max(img_data)))",
      "execution_count": 8,
      "outputs": [
        {
          "output_type": "stream",
          "text": "min: 0\nmax: 255\n",
          "name": "stdout"
        }
      ]
    },
    {
      "metadata": {
        "trusted": true
      },
      "cell_type": "code",
      "source": "# trieda obrazku je nieco ine ako matica a preto ju treba transformovat\n#transforms = transforms.Compose([\n#    #konvertujem obrazok na Tensor\n#    transforms.ToTensor(),\n# ])\n",
      "execution_count": 9,
      "outputs": []
    },
    {
      "metadata": {
        "trusted": true
      },
      "cell_type": "code",
      "source": "# prevediem hodnoty z 0-255 na hodnoty od 0-1\n# trainset = datasets.MNIST(\"neuronove_siete_projekt\",download=True,train=True,transform=transforms)\n# trainset[0][0]",
      "execution_count": 10,
      "outputs": []
    },
    {
      "metadata": {
        "trusted": true
      },
      "cell_type": "code",
      "source": "# normalizujem si to a prevediem na interval -1až1\n#konvertujem obrazok na Tensor\n#mame šedé obrázky, tym padom nepotrebujem v poliach udavat RGB\ntransforms = transforms.Compose([\n    transforms.ToTensor(),\n    transforms.Normalize([0.5],[0.5]),\n    transforms.Lambda(lambda x: x.double())\n])\ntestset = datasets.MNIST(\"neuronove_siete_projekt\",download=True,train=False,transform=transforms)\ntrainset = datasets.MNIST(\"neuronove_siete_projekt\",download=True,train=True,transform=transforms)\ntrainset[0][0]",
      "execution_count": 11,
      "outputs": [
        {
          "output_type": "execute_result",
          "execution_count": 11,
          "data": {
            "text/plain": "tensor([[[-1.0000, -1.0000, -1.0000, -1.0000, -1.0000, -1.0000, -1.0000,\n          -1.0000, -1.0000, -1.0000, -1.0000, -1.0000, -1.0000, -1.0000,\n          -1.0000, -1.0000, -1.0000, -1.0000, -1.0000, -1.0000, -1.0000,\n          -1.0000, -1.0000, -1.0000, -1.0000, -1.0000, -1.0000, -1.0000],\n         [-1.0000, -1.0000, -1.0000, -1.0000, -1.0000, -1.0000, -1.0000,\n          -1.0000, -1.0000, -1.0000, -1.0000, -1.0000, -1.0000, -1.0000,\n          -1.0000, -1.0000, -1.0000, -1.0000, -1.0000, -1.0000, -1.0000,\n          -1.0000, -1.0000, -1.0000, -1.0000, -1.0000, -1.0000, -1.0000],\n         [-1.0000, -1.0000, -1.0000, -1.0000, -1.0000, -1.0000, -1.0000,\n          -1.0000, -1.0000, -1.0000, -1.0000, -1.0000, -1.0000, -1.0000,\n          -1.0000, -1.0000, -1.0000, -1.0000, -1.0000, -1.0000, -1.0000,\n          -1.0000, -1.0000, -1.0000, -1.0000, -1.0000, -1.0000, -1.0000],\n         [-1.0000, -1.0000, -1.0000, -1.0000, -1.0000, -1.0000, -1.0000,\n          -1.0000, -1.0000, -1.0000, -1.0000, -1.0000, -1.0000, -1.0000,\n          -1.0000, -1.0000, -1.0000, -1.0000, -1.0000, -1.0000, -1.0000,\n          -1.0000, -1.0000, -1.0000, -1.0000, -1.0000, -1.0000, -1.0000],\n         [-1.0000, -1.0000, -1.0000, -1.0000, -1.0000, -1.0000, -1.0000,\n          -1.0000, -1.0000, -1.0000, -1.0000, -1.0000, -1.0000, -1.0000,\n          -1.0000, -1.0000, -1.0000, -1.0000, -1.0000, -1.0000, -1.0000,\n          -1.0000, -1.0000, -1.0000, -1.0000, -1.0000, -1.0000, -1.0000],\n         [-1.0000, -1.0000, -1.0000, -1.0000, -1.0000, -1.0000, -1.0000,\n          -1.0000, -1.0000, -1.0000, -1.0000, -1.0000, -0.9765, -0.8588,\n          -0.8588, -0.8588, -0.0118,  0.0667,  0.3725, -0.7961,  0.3020,\n           1.0000,  0.9373, -0.0039, -1.0000, -1.0000, -1.0000, -1.0000],\n         [-1.0000, -1.0000, -1.0000, -1.0000, -1.0000, -1.0000, -1.0000,\n          -1.0000, -0.7647, -0.7176, -0.2627,  0.2078,  0.3333,  0.9843,\n           0.9843,  0.9843,  0.9843,  0.9843,  0.7647,  0.3490,  0.9843,\n           0.8980,  0.5294, -0.4980, -1.0000, -1.0000, -1.0000, -1.0000],\n         [-1.0000, -1.0000, -1.0000, -1.0000, -1.0000, -1.0000, -1.0000,\n          -0.6157,  0.8667,  0.9843,  0.9843,  0.9843,  0.9843,  0.9843,\n           0.9843,  0.9843,  0.9843,  0.9686, -0.2706, -0.3569, -0.3569,\n          -0.5608, -0.6941, -1.0000, -1.0000, -1.0000, -1.0000, -1.0000],\n         [-1.0000, -1.0000, -1.0000, -1.0000, -1.0000, -1.0000, -1.0000,\n          -0.8588,  0.7176,  0.9843,  0.9843,  0.9843,  0.9843,  0.9843,\n           0.5529,  0.4275,  0.9373,  0.8902, -1.0000, -1.0000, -1.0000,\n          -1.0000, -1.0000, -1.0000, -1.0000, -1.0000, -1.0000, -1.0000],\n         [-1.0000, -1.0000, -1.0000, -1.0000, -1.0000, -1.0000, -1.0000,\n          -1.0000, -0.3725,  0.2235, -0.1608,  0.9843,  0.9843,  0.6078,\n          -0.9137, -1.0000, -0.6627,  0.2078, -1.0000, -1.0000, -1.0000,\n          -1.0000, -1.0000, -1.0000, -1.0000, -1.0000, -1.0000, -1.0000],\n         [-1.0000, -1.0000, -1.0000, -1.0000, -1.0000, -1.0000, -1.0000,\n          -1.0000, -1.0000, -0.8902, -0.9922,  0.2078,  0.9843, -0.2941,\n          -1.0000, -1.0000, -1.0000, -1.0000, -1.0000, -1.0000, -1.0000,\n          -1.0000, -1.0000, -1.0000, -1.0000, -1.0000, -1.0000, -1.0000],\n         [-1.0000, -1.0000, -1.0000, -1.0000, -1.0000, -1.0000, -1.0000,\n          -1.0000, -1.0000, -1.0000, -1.0000,  0.0902,  0.9843,  0.4902,\n          -0.9843, -1.0000, -1.0000, -1.0000, -1.0000, -1.0000, -1.0000,\n          -1.0000, -1.0000, -1.0000, -1.0000, -1.0000, -1.0000, -1.0000],\n         [-1.0000, -1.0000, -1.0000, -1.0000, -1.0000, -1.0000, -1.0000,\n          -1.0000, -1.0000, -1.0000, -1.0000, -0.9137,  0.4902,  0.9843,\n          -0.4510, -1.0000, -1.0000, -1.0000, -1.0000, -1.0000, -1.0000,\n          -1.0000, -1.0000, -1.0000, -1.0000, -1.0000, -1.0000, -1.0000],\n         [-1.0000, -1.0000, -1.0000, -1.0000, -1.0000, -1.0000, -1.0000,\n          -1.0000, -1.0000, -1.0000, -1.0000, -1.0000, -0.7255,  0.8902,\n           0.7647,  0.2549, -0.1529, -0.9922, -1.0000, -1.0000, -1.0000,\n          -1.0000, -1.0000, -1.0000, -1.0000, -1.0000, -1.0000, -1.0000],\n         [-1.0000, -1.0000, -1.0000, -1.0000, -1.0000, -1.0000, -1.0000,\n          -1.0000, -1.0000, -1.0000, -1.0000, -1.0000, -1.0000, -0.3647,\n           0.8824,  0.9843,  0.9843, -0.0667, -0.8039, -1.0000, -1.0000,\n          -1.0000, -1.0000, -1.0000, -1.0000, -1.0000, -1.0000, -1.0000],\n         [-1.0000, -1.0000, -1.0000, -1.0000, -1.0000, -1.0000, -1.0000,\n          -1.0000, -1.0000, -1.0000, -1.0000, -1.0000, -1.0000, -1.0000,\n          -0.6471,  0.4588,  0.9843,  0.9843,  0.1765, -0.7882, -1.0000,\n          -1.0000, -1.0000, -1.0000, -1.0000, -1.0000, -1.0000, -1.0000],\n         [-1.0000, -1.0000, -1.0000, -1.0000, -1.0000, -1.0000, -1.0000,\n          -1.0000, -1.0000, -1.0000, -1.0000, -1.0000, -1.0000, -1.0000,\n          -1.0000, -0.8745, -0.2706,  0.9765,  0.9843,  0.4667, -1.0000,\n          -1.0000, -1.0000, -1.0000, -1.0000, -1.0000, -1.0000, -1.0000],\n         [-1.0000, -1.0000, -1.0000, -1.0000, -1.0000, -1.0000, -1.0000,\n          -1.0000, -1.0000, -1.0000, -1.0000, -1.0000, -1.0000, -1.0000,\n          -1.0000, -1.0000, -1.0000,  0.9529,  0.9843,  0.9529, -0.4980,\n          -1.0000, -1.0000, -1.0000, -1.0000, -1.0000, -1.0000, -1.0000],\n         [-1.0000, -1.0000, -1.0000, -1.0000, -1.0000, -1.0000, -1.0000,\n          -1.0000, -1.0000, -1.0000, -1.0000, -1.0000, -1.0000, -1.0000,\n          -0.6392,  0.0196,  0.4353,  0.9843,  0.9843,  0.6235, -0.9843,\n          -1.0000, -1.0000, -1.0000, -1.0000, -1.0000, -1.0000, -1.0000],\n         [-1.0000, -1.0000, -1.0000, -1.0000, -1.0000, -1.0000, -1.0000,\n          -1.0000, -1.0000, -1.0000, -1.0000, -1.0000, -0.6941,  0.1608,\n           0.7961,  0.9843,  0.9843,  0.9843,  0.9608,  0.4275, -1.0000,\n          -1.0000, -1.0000, -1.0000, -1.0000, -1.0000, -1.0000, -1.0000],\n         [-1.0000, -1.0000, -1.0000, -1.0000, -1.0000, -1.0000, -1.0000,\n          -1.0000, -1.0000, -1.0000, -0.8118, -0.1059,  0.7333,  0.9843,\n           0.9843,  0.9843,  0.9843,  0.5765, -0.3882, -1.0000, -1.0000,\n          -1.0000, -1.0000, -1.0000, -1.0000, -1.0000, -1.0000, -1.0000],\n         [-1.0000, -1.0000, -1.0000, -1.0000, -1.0000, -1.0000, -1.0000,\n          -1.0000, -0.8196, -0.4824,  0.6706,  0.9843,  0.9843,  0.9843,\n           0.9843,  0.5529, -0.3647, -0.9843, -1.0000, -1.0000, -1.0000,\n          -1.0000, -1.0000, -1.0000, -1.0000, -1.0000, -1.0000, -1.0000],\n         [-1.0000, -1.0000, -1.0000, -1.0000, -1.0000, -1.0000, -0.8588,\n           0.3412,  0.7176,  0.9843,  0.9843,  0.9843,  0.9843,  0.5294,\n          -0.3725, -0.9294, -1.0000, -1.0000, -1.0000, -1.0000, -1.0000,\n          -1.0000, -1.0000, -1.0000, -1.0000, -1.0000, -1.0000, -1.0000],\n         [-1.0000, -1.0000, -1.0000, -1.0000, -0.5686,  0.3490,  0.7725,\n           0.9843,  0.9843,  0.9843,  0.9843,  0.9137,  0.0431, -0.9137,\n          -1.0000, -1.0000, -1.0000, -1.0000, -1.0000, -1.0000, -1.0000,\n          -1.0000, -1.0000, -1.0000, -1.0000, -1.0000, -1.0000, -1.0000],\n         [-1.0000, -1.0000, -1.0000, -1.0000,  0.0667,  0.9843,  0.9843,\n           0.9843,  0.6627,  0.0588,  0.0353, -0.8745, -1.0000, -1.0000,\n          -1.0000, -1.0000, -1.0000, -1.0000, -1.0000, -1.0000, -1.0000,\n          -1.0000, -1.0000, -1.0000, -1.0000, -1.0000, -1.0000, -1.0000],\n         [-1.0000, -1.0000, -1.0000, -1.0000, -1.0000, -1.0000, -1.0000,\n          -1.0000, -1.0000, -1.0000, -1.0000, -1.0000, -1.0000, -1.0000,\n          -1.0000, -1.0000, -1.0000, -1.0000, -1.0000, -1.0000, -1.0000,\n          -1.0000, -1.0000, -1.0000, -1.0000, -1.0000, -1.0000, -1.0000],\n         [-1.0000, -1.0000, -1.0000, -1.0000, -1.0000, -1.0000, -1.0000,\n          -1.0000, -1.0000, -1.0000, -1.0000, -1.0000, -1.0000, -1.0000,\n          -1.0000, -1.0000, -1.0000, -1.0000, -1.0000, -1.0000, -1.0000,\n          -1.0000, -1.0000, -1.0000, -1.0000, -1.0000, -1.0000, -1.0000],\n         [-1.0000, -1.0000, -1.0000, -1.0000, -1.0000, -1.0000, -1.0000,\n          -1.0000, -1.0000, -1.0000, -1.0000, -1.0000, -1.0000, -1.0000,\n          -1.0000, -1.0000, -1.0000, -1.0000, -1.0000, -1.0000, -1.0000,\n          -1.0000, -1.0000, -1.0000, -1.0000, -1.0000, -1.0000, -1.0000]]],\n       dtype=torch.float64)"
          },
          "metadata": {}
        }
      ]
    },
    {
      "metadata": {
        "trusted": true
      },
      "cell_type": "code",
      "source": "# zmenili sme typ dat na standardny float64\ntrainset[0][0].dtype",
      "execution_count": 12,
      "outputs": [
        {
          "output_type": "execute_result",
          "execution_count": 12,
          "data": {
            "text/plain": "torch.float64"
          },
          "metadata": {}
        }
      ]
    },
    {
      "metadata": {
        "trusted": true
      },
      "cell_type": "code",
      "source": "# teraz potrebujem dataloader, pretoze keby chcem do premennej nacitat velke mnozstvo dat, zjedlo by to privela pamate\n# data musim nasekat na tzv batches\n# data si zamiesam \ntrainloader = torch.utils.data.DataLoader(trainset, batch_size=64,shuffle=True)\ntestloader = torch.utils.data.DataLoader(testset, batch_size=64,shuffle=True)",
      "execution_count": 13,
      "outputs": []
    },
    {
      "metadata": {
        "trusted": true
      },
      "cell_type": "code",
      "source": "dataiter = iter(trainloader)\nimages, labels = dataiter.next()\nlen(images)",
      "execution_count": 14,
      "outputs": [
        {
          "output_type": "execute_result",
          "execution_count": 14,
          "data": {
            "text/plain": "64"
          },
          "metadata": {}
        }
      ]
    },
    {
      "metadata": {
        "trusted": true
      },
      "cell_type": "code",
      "source": "# dimenzia matice je 64, potom je tam nejaka jednorozmerna blbost a 28x28 obrazky\n#images.shape",
      "execution_count": 15,
      "outputs": []
    },
    {
      "metadata": {
        "trusted": true
      },
      "cell_type": "code",
      "source": "# zbytocne dimenzie si vymazem cez squeeze\nimages.squeeze().shape",
      "execution_count": 16,
      "outputs": [
        {
          "output_type": "execute_result",
          "execution_count": 16,
          "data": {
            "text/plain": "torch.Size([64, 28, 28])"
          },
          "metadata": {}
        }
      ]
    },
    {
      "metadata": {
        "trusted": true
      },
      "cell_type": "code",
      "source": "plt.imshow(images[0].squeeze())",
      "execution_count": 17,
      "outputs": [
        {
          "output_type": "execute_result",
          "execution_count": 17,
          "data": {
            "text/plain": "<matplotlib.image.AxesImage at 0x7f619397ba58>"
          },
          "metadata": {}
        },
        {
          "output_type": "display_data",
          "data": {
            "image/png": "[encoded data removed]",
            "text/plain": "<Figure size 432x288 with 1 Axes>"
          },
          "metadata": {
            "needs_background": "light"
          }
        }
      ]
    },
    {
      "metadata": {
        "trusted": true
      },
      "cell_type": "code",
      "source": "# zobrazim si viac obrazkov\ndef show_images(images, labels, rows,cols):\n    fig, axes = plt.subplots(rows, cols , figsize=(cols , rows))\n    #vsetky podgrafy su teraz ulozene v tejto premennej\n    #tato premenna je dvojrozmerne pole, ktore obsahuje spolu 6x10 podobrazkov\n    for idx in range(0,rows*cols):\n        ridx = idx//cols #celociselne delenie\n        cidx = idx % cols\n    \n        ax = axes[ridx, cidx]\n        ax.imshow(images[idx].squeeze())\n        ax.set_title(\"{}\".format(labels[idx]))\n        ax.axis(\"off\")\n    plt.show()\n    return fig\n    \n        ",
      "execution_count": 18,
      "outputs": []
    },
    {
      "metadata": {
        "trusted": true
      },
      "cell_type": "code",
      "source": "fig = show_images(images,labels, rows=6, cols=10)",
      "execution_count": 19,
      "outputs": [
        {
          "output_type": "display_data",
          "data": {
            "image/png": "[encoded data removed]",
            "text/plain": "<Figure size 720x432 with 60 Axes>"
          },
          "metadata": {
            "needs_background": "light"
          }
        }
      ]
    },
    {
      "metadata": {
        "trusted": true
      },
      "cell_type": "code",
      "source": "# aktualne ale mam k cislu priradeny label. To nechcem, pretoze ja chcem mat na vystupe pravdepodobnosť od 0-9\nx = np.zeros(10)\nprint(x)",
      "execution_count": 20,
      "outputs": [
        {
          "output_type": "stream",
          "text": "[0. 0. 0. 0. 0. 0. 0. 0. 0. 0.]\n",
          "name": "stdout"
        }
      ]
    },
    {
      "metadata": {
        "trusted": true
      },
      "cell_type": "code",
      "source": "x[0]=1.0\nprint(x)",
      "execution_count": 21,
      "outputs": [
        {
          "output_type": "stream",
          "text": "[1. 0. 0. 0. 0. 0. 0. 0. 0. 0.]\n",
          "name": "stdout"
        }
      ]
    },
    {
      "metadata": {
        "trusted": true
      },
      "cell_type": "code",
      "source": "# vytvorim si funkciu, ktora mi tieto labels zmeni na vektory\ndef conv_to_vectors(labels):\n    #na zaciatok si vytvorim docasne pole new_labels a bude to prazdne pole\n    new_labels = []\n    for label in labels:\n        x = np.zeros(10)\n        x[label]=1.0\n        new_labels.append(x)\n    new_labels=torch.from_numpy(np.vstack(new_labels))\n    return new_labels",
      "execution_count": 22,
      "outputs": []
    },
    {
      "metadata": {
        "trusted": true
      },
      "cell_type": "code",
      "source": "labels = conv_to_vectors(labels)\nlabels[3]",
      "execution_count": 23,
      "outputs": [
        {
          "output_type": "execute_result",
          "execution_count": 23,
          "data": {
            "text/plain": "tensor([0., 0., 0., 0., 0., 0., 0., 1., 0., 0.], dtype=torch.float64)"
          },
          "metadata": {}
        }
      ]
    },
    {
      "metadata": {
        "trusted": true
      },
      "cell_type": "code",
      "source": "# kniznica obsahuje vela funkcii pre neuronove siete\nimport torch.nn as nn",
      "execution_count": 24,
      "outputs": []
    },
    {
      "metadata": {
        "trusted": true
      },
      "cell_type": "code",
      "source": "INPUT_SIZE = 28*28\nHIDDEN1_SIZE = 128\nHIDDEN2_SIZE = 64\nOUTPUT_SIZE = 10",
      "execution_count": 25,
      "outputs": []
    },
    {
      "metadata": {
        "trusted": true
      },
      "cell_type": "code",
      "source": "# vytvorim si triedu, ktora bude dedit z nn.Module\n# ked dedime z tejto triedy musime menit iba zopar funkcii a to konstruktor a funkciu forward\nclass DigiNet(nn.Module):\n    def __init__(self):\n            # musim zavolat originalny konstruktor\n            super(DigiNet, self).__init__()\n            # vytvorim prvu vrstvu. Linear trieda reprezentuje linearnu transformaciu - pocitanie hodnoty neuronu (vahy x hodnoty neuronu + bias)\n            # ibaze v tomto pripade to reprezentuje celu jednu vrstvu. nn.Linear reprezentuje prechod medzi prvou a druhou vrstvou. \n            # Tato trieda v sebe obsahuje aj vahy, aj bias a vie pocitat hodnoty tych nasledovnych neuronov, cize takto je to zaobalene do tej jednej triedy.\n            # Spravim to pre prvy, druhy a treti prechod a tak ziskam tri prechody medzi tymito vrstvami\n            # vsetky linearne transformacie sa mi ulozia do triedy self, cize ked vytvorim instanciu DigiNet, budem mat ulozene tieto jednotlive prechody\n            self.input_layer_weights=nn.Linear(INPUT_SIZE, HIDDEN1_SIZE)\n            self.hidden_layer1_weights=nn.Linear(HIDDEN1_SIZE, HIDDEN2_SIZE)\n            self.hidden_layer2_weights=nn.Linear(HIDDEN2_SIZE, OUTPUT_SIZE)\n            \n            # nepouzijem funkiu sigmoid ale pouzijem relu lebo je menej vypoctovo narocna a presnejsia pri viacvrstvovych sietach\n            # pre mensiu hodnotu ako 0 vráti 0 a pre vacsiu vrati tu danu hodnotu\n            self.act1=nn.ReLU()\n            self.act2=nn.ReLU()\n            # softmax vytvori pravdepodobnostnu distribuciu\n            # zabezpecuje ze pravdepodobnost 100 % sa rozdeli medzi cisla\n            self.act3=nn.Softmax(dim=1)\n            \n            # tak ako sme prevadzali obrazky na float64, musime to urobit aj s modelom\n            self.double()\n            \n    def forward(self,x):\n            x = self.input_layer_weights(x)\n            x = self.act1(x)\n            \n            x = self.hidden_layer1_weights(x)\n            x = self.act2(x)\n            \n            x = self.hidden_layer2_weights(x)\n            x = self.act3(x)\n            \n            return x\n                ",
      "execution_count": 26,
      "outputs": []
    },
    {
      "metadata": {
        "trusted": true
      },
      "cell_type": "code",
      "source": "# instancia neuronovej siete\nmodel = DigiNet()",
      "execution_count": 27,
      "outputs": []
    },
    {
      "metadata": {
        "trusted": true
      },
      "cell_type": "code",
      "source": "#obrazky mam sice 28x28 ale vstup je jednorozmerny vektor 768 cize potrebujem reshape\ntest = np.zeros((3,4))\nprint(\"pred reshapom: \",test)\ntest = test.reshape(1,12)\nprint(\"po reshape: \",test)",
      "execution_count": 28,
      "outputs": [
        {
          "output_type": "stream",
          "text": "pred reshapom:  [[0. 0. 0. 0.]\n [0. 0. 0. 0.]\n [0. 0. 0. 0.]]\npo reshape:  [[0. 0. 0. 0. 0. 0. 0. 0. 0. 0. 0. 0.]]\n",
          "name": "stdout"
        }
      ]
    },
    {
      "metadata": {
        "trusted": true
      },
      "cell_type": "code",
      "source": "# view je to iste co reshape ale je to lepsie pretoze nekopiruje celu maticu len meni nahlad na data a teda neplytvam pamatou\nimages = images.view(images.shape[0],-1)\nimages.shape",
      "execution_count": 29,
      "outputs": [
        {
          "output_type": "execute_result",
          "execution_count": 29,
          "data": {
            "text/plain": "torch.Size([64, 784])"
          },
          "metadata": {}
        }
      ]
    },
    {
      "metadata": {
        "trusted": true
      },
      "cell_type": "code",
      "source": "# mohla by som zavolat aj forward.shape ale takto je to lepsie lebo taketo volanie robi na pozadi este aj ine operacie\npredikcie= model(images)",
      "execution_count": 30,
      "outputs": []
    },
    {
      "metadata": {
        "trusted": true
      },
      "cell_type": "code",
      "source": "# pre kazde cislo nejaka pravdepodobnost. Momentalne to nie je nic zmysluplne, vahy su nahodne inicializovane\npredikcie[0]",
      "execution_count": 31,
      "outputs": [
        {
          "output_type": "execute_result",
          "execution_count": 31,
          "data": {
            "text/plain": "tensor([0.0971, 0.0925, 0.1127, 0.1012, 0.0910, 0.1045, 0.1079, 0.0928, 0.0951,\n        0.1052], dtype=torch.float64, grad_fn=<SelectBackward>)"
          },
          "metadata": {}
        }
      ]
    },
    {
      "metadata": {
        "trusted": true
      },
      "cell_type": "code",
      "source": "# overim si, ci vsetky vahy davaju dokopy jednotku (100%)\nprint(predikcie[0].sum())\nprint(predikcie[1].sum())\nprint(predikcie[2].sum())",
      "execution_count": 32,
      "outputs": [
        {
          "output_type": "stream",
          "text": "tensor(1.0000, dtype=torch.float64, grad_fn=<SumBackward0>)\ntensor(1., dtype=torch.float64, grad_fn=<SumBackward0>)\ntensor(1., dtype=torch.float64, grad_fn=<SumBackward0>)\n",
          "name": "stdout"
        }
      ]
    },
    {
      "metadata": {
        "trusted": true
      },
      "cell_type": "code",
      "source": "# idem pocitat mean square error\nmse = nn.MSELoss()\n#argumentmi su predikcie a ocakavane vystupy\nloss = mse(predikcie, labels)\nprint(loss)",
      "execution_count": 33,
      "outputs": [
        {
          "output_type": "stream",
          "text": "tensor(0.0904, dtype=torch.float64, grad_fn=<MseLossBackward>)\n",
          "name": "stdout"
        }
      ]
    },
    {
      "metadata": {
        "trusted": true
      },
      "cell_type": "code",
      "source": "weights = model.parameters()\nprint(list(weights))",
      "execution_count": 34,
      "outputs": [
        {
          "output_type": "stream",
          "text": "[Parameter containing:\ntensor([[-0.0189, -0.0164,  0.0261,  ..., -0.0069,  0.0320,  0.0039],\n        [ 0.0158,  0.0004,  0.0058,  ..., -0.0265,  0.0101, -0.0017],\n        [-0.0179, -0.0194, -0.0201,  ...,  0.0151,  0.0300, -0.0288],\n        ...,\n        [ 0.0200,  0.0034,  0.0252,  ...,  0.0269, -0.0200,  0.0298],\n        [ 0.0352, -0.0164, -0.0112,  ...,  0.0247,  0.0319,  0.0178],\n        [ 0.0147,  0.0092,  0.0100,  ...,  0.0269, -0.0296, -0.0017]],\n       dtype=torch.float64, requires_grad=True), Parameter containing:\ntensor([-0.0247, -0.0241, -0.0006, -0.0263, -0.0192, -0.0162,  0.0139, -0.0084,\n        -0.0297,  0.0068,  0.0130,  0.0229, -0.0279,  0.0158,  0.0308,  0.0255,\n        -0.0276,  0.0281, -0.0339, -0.0350, -0.0314,  0.0275, -0.0022, -0.0095,\n        -0.0166,  0.0165, -0.0090, -0.0266,  0.0233,  0.0339, -0.0287, -0.0066,\n         0.0037, -0.0196, -0.0209, -0.0147, -0.0054, -0.0299, -0.0274,  0.0256,\n         0.0246,  0.0280, -0.0288,  0.0340,  0.0150, -0.0221, -0.0012, -0.0246,\n        -0.0148,  0.0342, -0.0020,  0.0064, -0.0164, -0.0141,  0.0278,  0.0249,\n        -0.0086,  0.0245, -0.0141, -0.0150, -0.0189,  0.0253, -0.0068, -0.0017,\n         0.0124,  0.0188, -0.0220, -0.0277,  0.0273, -0.0253, -0.0140, -0.0252,\n         0.0199, -0.0349,  0.0326,  0.0061, -0.0120, -0.0180,  0.0290,  0.0136,\n         0.0005, -0.0263, -0.0196,  0.0220, -0.0081,  0.0192, -0.0140, -0.0308,\n        -0.0287,  0.0027, -0.0264,  0.0035,  0.0063, -0.0058, -0.0135, -0.0095,\n        -0.0185,  0.0088,  0.0288, -0.0019, -0.0352,  0.0123,  0.0253, -0.0145,\n        -0.0309,  0.0231,  0.0002, -0.0043,  0.0220, -0.0126,  0.0086, -0.0268,\n        -0.0278,  0.0115, -0.0234, -0.0004,  0.0310, -0.0048, -0.0179, -0.0151,\n         0.0148, -0.0267, -0.0095, -0.0249,  0.0168,  0.0012,  0.0075,  0.0130],\n       dtype=torch.float64, requires_grad=True), Parameter containing:\ntensor([[ 0.0059, -0.0560,  0.0750,  ...,  0.0317,  0.0288,  0.0388],\n        [-0.0395, -0.0154,  0.0546,  ..., -0.0611,  0.0272, -0.0837],\n        [-0.0679, -0.0622, -0.0043,  ..., -0.0540,  0.0381,  0.0484],\n        ...,\n        [-0.0240, -0.0773,  0.0310,  ..., -0.0241,  0.0327, -0.0646],\n        [ 0.0679,  0.0639,  0.0838,  ...,  0.0849, -0.0865, -0.0077],\n        [-0.0475, -0.0094, -0.0247,  ...,  0.0322,  0.0186,  0.0397]],\n       dtype=torch.float64, requires_grad=True), Parameter containing:\ntensor([ 0.0745,  0.0444,  0.0805,  0.0284, -0.0090,  0.0544,  0.0691,  0.0649,\n        -0.0312, -0.0204,  0.0689, -0.0765, -0.0820, -0.0489, -0.0350, -0.0080,\n         0.0780, -0.0061, -0.0348,  0.0828,  0.0070,  0.0424,  0.0223, -0.0594,\n        -0.0176, -0.0518, -0.0622, -0.0246, -0.0601,  0.0391,  0.0679,  0.0515,\n         0.0231, -0.0058,  0.0066, -0.0191, -0.0109, -0.0594,  0.0217, -0.0367,\n        -0.0331,  0.0807, -0.0553,  0.0075,  0.0496,  0.0120,  0.0341, -0.0465,\n         0.0457, -0.0714, -0.0517, -0.0311, -0.0582, -0.0675, -0.0735, -0.0063,\n         0.0099, -0.0373, -0.0860, -0.0523,  0.0222,  0.0530,  0.0802, -0.0086],\n       dtype=torch.float64, requires_grad=True), Parameter containing:\ntensor([[-0.0405,  0.0533, -0.1218,  0.0143,  0.1187, -0.0369,  0.1039,  0.0857,\n          0.1145, -0.1155, -0.0368,  0.1132, -0.1087,  0.0890,  0.0192,  0.1086,\n          0.0054, -0.0798,  0.0033,  0.0662, -0.0418,  0.0446,  0.1212,  0.0630,\n         -0.0147, -0.0341, -0.0323, -0.0512,  0.0054,  0.0593, -0.1130,  0.0999,\n          0.0282,  0.0797, -0.0278, -0.0246, -0.0982,  0.0800, -0.0075, -0.1075,\n         -0.0323, -0.0137,  0.0376, -0.0005,  0.0135, -0.0787, -0.0476, -0.0710,\n          0.1056,  0.0777, -0.0615,  0.0103, -0.0086, -0.1174,  0.0584, -0.0758,\n          0.0272,  0.0523, -0.0240, -0.0265,  0.1081, -0.1214,  0.0171,  0.0037],\n        [ 0.0739,  0.0369, -0.0524,  0.0269,  0.0863,  0.0690, -0.1013, -0.0669,\n         -0.0207,  0.0843, -0.0555,  0.0572, -0.0380, -0.0865,  0.0615, -0.0415,\n         -0.0678,  0.0279, -0.0758, -0.1011, -0.0823,  0.0871, -0.0391, -0.0453,\n         -0.0672, -0.1009, -0.0404, -0.0409,  0.0125,  0.0450, -0.0423,  0.0661,\n         -0.1009,  0.0940,  0.0101,  0.0169,  0.0429,  0.0628,  0.0330, -0.1001,\n         -0.1052,  0.0646,  0.1174, -0.0771,  0.0893, -0.0115, -0.1152, -0.0122,\n          0.0197,  0.0742, -0.0864,  0.0320, -0.0091, -0.0953, -0.0601, -0.0458,\n          0.1132,  0.0714,  0.1199,  0.1192,  0.0865, -0.0030,  0.0650, -0.0769],\n        [-0.1186,  0.0317, -0.0207,  0.0274, -0.0712, -0.0096, -0.0512,  0.1226,\n         -0.0292, -0.1037, -0.0914, -0.0633,  0.0554,  0.1210, -0.0425, -0.0093,\n         -0.0579,  0.0411,  0.0857, -0.0721, -0.0917, -0.0273,  0.0314,  0.1161,\n         -0.0059, -0.0199,  0.0423,  0.0671, -0.0069,  0.0812, -0.0079, -0.0799,\n          0.0367,  0.0260,  0.0855, -0.1107, -0.1060,  0.0607,  0.1097, -0.1078,\n          0.1111,  0.1139,  0.0984, -0.0432, -0.0022, -0.0238,  0.1246, -0.0593,\n          0.0955, -0.0939, -0.0592, -0.0560, -0.0061, -0.0897,  0.0697, -0.0719,\n         -0.1053,  0.0586, -0.0161, -0.1132, -0.0687, -0.0890,  0.0151, -0.1120],\n        [ 0.0783, -0.0872, -0.1198,  0.0820, -0.0177,  0.0544, -0.1232,  0.1176,\n         -0.0832, -0.0186,  0.0950,  0.0609, -0.0104, -0.0859,  0.1025, -0.1111,\n         -0.0394,  0.0627,  0.0480,  0.1068, -0.0498,  0.0637,  0.0158,  0.0406,\n         -0.0529, -0.0208, -0.0098, -0.0611,  0.0679,  0.0556,  0.0152,  0.0627,\n          0.0516, -0.0812, -0.0801, -0.0217,  0.0656,  0.0661, -0.0029, -0.0200,\n          0.1047,  0.1234, -0.0949, -0.0335, -0.0035,  0.0831, -0.0361,  0.1118,\n         -0.0280, -0.0772, -0.0442,  0.0153, -0.0303,  0.0988, -0.0940,  0.0275,\n         -0.0650, -0.0600, -0.1023, -0.0436,  0.0344, -0.1005, -0.0758, -0.1229],\n        [-0.0553,  0.0442, -0.0733,  0.1196,  0.0341, -0.0538,  0.0367, -0.1242,\n          0.0141,  0.1045, -0.0858, -0.0990,  0.0717,  0.0914,  0.0803,  0.1063,\n          0.0182, -0.0344,  0.1223, -0.0234, -0.0427, -0.1020,  0.0056, -0.0366,\n         -0.0076, -0.0976, -0.0384,  0.0225, -0.0317,  0.0734, -0.0078,  0.0805,\n          0.0431,  0.1042,  0.0326,  0.0161, -0.0261,  0.0027, -0.0732,  0.0664,\n          0.0364, -0.1167, -0.0789,  0.0858,  0.0992, -0.0965,  0.0232,  0.0068,\n          0.0755, -0.1231, -0.0223,  0.0161,  0.0432,  0.0205,  0.0337, -0.0575,\n          0.1034, -0.0615,  0.0441,  0.0080, -0.0786, -0.0806,  0.1086,  0.1129],\n        [-0.0547, -0.0157, -0.1153,  0.1044, -0.0292,  0.0218,  0.0556, -0.1156,\n         -0.0680,  0.0243, -0.0004,  0.1058, -0.1181, -0.0055, -0.0727, -0.0861,\n          0.0356, -0.0147,  0.0071,  0.0760, -0.0960, -0.0597, -0.0780,  0.0944,\n          0.0727, -0.0244,  0.0909, -0.0372,  0.1086, -0.0746,  0.0712,  0.0426,\n          0.1068, -0.0334, -0.0570,  0.0114, -0.0119,  0.0006,  0.0519,  0.0720,\n          0.1062,  0.1237, -0.1218,  0.0100,  0.0524, -0.1239,  0.0465, -0.0383,\n          0.0192, -0.0738, -0.0289,  0.1222,  0.0487,  0.0430, -0.0933, -0.0531,\n          0.1027,  0.0868,  0.0089,  0.0952, -0.0139,  0.0734, -0.0334, -0.1002],\n        [-0.0718, -0.0380,  0.0688, -0.0209,  0.1165, -0.0439, -0.0071,  0.0687,\n          0.0663, -0.0288,  0.0916,  0.0512,  0.1168,  0.0084, -0.0193, -0.0645,\n          0.1087,  0.0695, -0.1225, -0.1146,  0.1141,  0.0452,  0.0548, -0.1109,\n          0.0768,  0.0535,  0.0539,  0.1149, -0.0999,  0.0397,  0.1170, -0.0752,\n          0.1051, -0.1110, -0.0294,  0.1197, -0.0798,  0.0438,  0.0986,  0.0644,\n          0.0485,  0.0511,  0.1056, -0.0991,  0.0244,  0.0809,  0.0904, -0.0297,\n          0.0614, -0.0298, -0.1165,  0.0528,  0.0356, -0.0347, -0.0731,  0.0549,\n          0.0903,  0.0674,  0.0552,  0.0091,  0.0496,  0.0728, -0.0991,  0.1115],\n        [ 0.0405, -0.0564, -0.0036, -0.1068,  0.0539,  0.1160,  0.0282,  0.0931,\n          0.1135,  0.0069,  0.0236, -0.0824, -0.0504, -0.0023,  0.0685,  0.0803,\n         -0.0820,  0.0363,  0.0007,  0.0844,  0.0137,  0.1069, -0.0869, -0.0485,\n         -0.0294, -0.0320, -0.0589,  0.0979,  0.0784,  0.0276,  0.0442, -0.0931,\n          0.0305, -0.1152,  0.0850, -0.1151, -0.0924, -0.0364, -0.0317, -0.0190,\n          0.0413, -0.0571, -0.0479,  0.0203, -0.0093, -0.0657,  0.1206,  0.0196,\n         -0.0149,  0.0350,  0.0527, -0.1248, -0.0408,  0.0623, -0.0601,  0.0460,\n          0.0293,  0.0657,  0.0952, -0.0418, -0.0114, -0.0560,  0.1188, -0.0157],\n        [ 0.1082,  0.1159,  0.0973, -0.1096,  0.0902, -0.0816, -0.0575, -0.0005,\n          0.0120,  0.0524, -0.0090, -0.1093, -0.0601,  0.0624,  0.0994, -0.0527,\n         -0.0445,  0.0696, -0.0498,  0.1223, -0.1095, -0.1193,  0.0217,  0.1054,\n         -0.0513,  0.1221,  0.0119, -0.1088,  0.0639, -0.0482, -0.0829, -0.0907,\n         -0.0278, -0.0903, -0.1039,  0.1143, -0.1046,  0.0758,  0.0053, -0.0623,\n         -0.0220,  0.0796,  0.0533, -0.0350, -0.0998,  0.1053, -0.0013,  0.0719,\n         -0.0234, -0.0951, -0.0997,  0.0795, -0.0193,  0.0553,  0.1186,  0.0914,\n          0.0167, -0.0186, -0.0656, -0.0836,  0.0129, -0.0731, -0.0407,  0.0353],\n        [ 0.0232, -0.0959, -0.0255, -0.0545,  0.0250,  0.1031, -0.0349,  0.0578,\n          0.0556, -0.0430, -0.0095,  0.0576, -0.1183,  0.0537,  0.0129,  0.0038,\n          0.0678,  0.1176,  0.0429,  0.1031, -0.0537,  0.1219,  0.0018,  0.1222,\n         -0.0058,  0.0142, -0.0895, -0.0808, -0.1172,  0.0655,  0.1055, -0.0228,\n          0.0791,  0.0100,  0.1161, -0.0951, -0.0833,  0.0435,  0.0875,  0.1228,\n         -0.0853,  0.0692, -0.0611, -0.0836,  0.1240, -0.0251,  0.0601,  0.0278,\n          0.0574,  0.0893, -0.1115,  0.0928, -0.0126,  0.1061, -0.0546,  0.0680,\n          0.0174,  0.0615, -0.0728, -0.0336, -0.0417, -0.0401, -0.0910,  0.1216]],\n       dtype=torch.float64, requires_grad=True), Parameter containing:\ntensor([ 0.0171, -0.0211,  0.1054,  0.0230, -0.1184, -0.0557, -0.0851, -0.0796,\n         0.0523, -0.1161], dtype=torch.float64, requires_grad=True)]\n",
          "name": "stdout"
        }
      ]
    },
    {
      "metadata": {
        "trusted": true
      },
      "cell_type": "code",
      "source": "# idem pocitat gradient tychto vah \n# gradient pripocitam k danej vahe v malych epochach\n# pouzijem algoritmus backpropagation lebo zapisat tieto vsetky vahy by bolo tazke\n# pre posledny layer viem povedat, ake zmeny by sa mali udiat, aby sme dostali lepsie vysledky.\n# niektore zmeny treba posunut hore a niektore dolu\nloss.backward()",
      "execution_count": 35,
      "outputs": []
    },
    {
      "metadata": {
        "trusted": true
      },
      "cell_type": "code",
      "source": "#vypocty nerobime pre kazde cislo lebo by to bolo vypoctovo narocne a kvoli tomu sme pouzivali batches",
      "execution_count": 36,
      "outputs": []
    },
    {
      "metadata": {
        "trusted": true
      },
      "cell_type": "code",
      "source": "from torch import optim",
      "execution_count": 37,
      "outputs": []
    },
    {
      "metadata": {
        "trusted": true
      },
      "cell_type": "code",
      "source": "#moj aktualny shape\nprint (images.shape)",
      "execution_count": 38,
      "outputs": [
        {
          "output_type": "stream",
          "text": "torch.Size([64, 784])\n",
          "name": "stdout"
        }
      ]
    },
    {
      "metadata": {
        "trusted": true
      },
      "cell_type": "code",
      "source": "def train_model(model, epochs=15, lr=0.0035, momentum=0.7):\n    sgd = optim.SGD(model.parameters(), lr=lr, momentum=momentum)\n    mse = nn.MSELoss()\n    for epoch in range(epochs):\n        _loss = 0\n        for images, labels in trainloader:\n            images = images.view(images.shape[0], -1)\n            sgd.zero_grad()\n            preds = model(images)\n            labels = conv_to_vectors(labels)\n            loss = mse(preds, labels)\n            loss.backward()\n        \n            # teraz cukneme tie váhy správnym smerom\n            sgd.step()\n            _loss += loss.item()\n        else:\n            print(\"Epoch {} - training loss: {}\".format(\n                epoch, _loss/len(trainloader)))\n    return model",
      "execution_count": 50,
      "outputs": []
    },
    {
      "metadata": {
        "trusted": true
      },
      "cell_type": "code",
      "source": "model = train_model(model)\n#mozem vidiet ze chyba sa mi postupne zmensila",
      "execution_count": 51,
      "outputs": [
        {
          "output_type": "stream",
          "text": "Epoch 0 - training loss: 0.07695909609755992\nEpoch 1 - training loss: 0.06936188419674881\nEpoch 2 - training loss: 0.061914890830167026\nEpoch 3 - training loss: 0.05522642258758406\nEpoch 4 - training loss: 0.04919525441372295\nEpoch 5 - training loss: 0.04374746872029749\nEpoch 6 - training loss: 0.03882271055965373\nEpoch 7 - training loss: 0.03443235850458043\nEpoch 8 - training loss: 0.030717701873208103\nEpoch 9 - training loss: 0.027778672380657964\nEpoch 10 - training loss: 0.025516918295992837\nEpoch 11 - training loss: 0.023790652442681713\nEpoch 12 - training loss: 0.022434498153249514\nEpoch 13 - training loss: 0.02136653983551483\nEpoch 14 - training loss: 0.020499049206554643\n",
          "name": "stdout"
        }
      ]
    },
    {
      "metadata": {
        "trusted": true
      },
      "cell_type": "code",
      "source": "preds = model(images)",
      "execution_count": 52,
      "outputs": []
    },
    {
      "metadata": {
        "trusted": true
      },
      "cell_type": "code",
      "source": "preds[0]",
      "execution_count": 53,
      "outputs": [
        {
          "output_type": "execute_result",
          "execution_count": 53,
          "data": {
            "text/plain": "tensor([0.1560, 0.0018, 0.0014, 0.0232, 0.0167, 0.3587, 0.0008, 0.3229, 0.0102,\n        0.1083], dtype=torch.float64, grad_fn=<SelectBackward>)"
          },
          "metadata": {}
        }
      ]
    },
    {
      "metadata": {
        "trusted": true
      },
      "cell_type": "code",
      "source": "#vrati index najvacsej pravdepodobnosti tohto desat clenneho vektoru\npreds[0].argmax()",
      "execution_count": 54,
      "outputs": [
        {
          "output_type": "execute_result",
          "execution_count": 54,
          "data": {
            "text/plain": "tensor(5)"
          },
          "metadata": {}
        }
      ]
    },
    {
      "metadata": {
        "trusted": true
      },
      "cell_type": "code",
      "source": "\"{:%}\".format(0.3587)",
      "execution_count": 55,
      "outputs": [
        {
          "output_type": "execute_result",
          "execution_count": 55,
          "data": {
            "text/plain": "'35.870000%'"
          },
          "metadata": {}
        }
      ]
    },
    {
      "metadata": {
        "trusted": true
      },
      "cell_type": "code",
      "source": "plt.imshow(images[0].view(28,28))\nplt.show()",
      "execution_count": 56,
      "outputs": [
        {
          "output_type": "display_data",
          "data": {
            "image/png": "[encoded data removed]",
            "text/plain": "<Figure size 432x288 with 1 Axes>"
          },
          "metadata": {
            "needs_background": "light"
          }
        }
      ]
    },
    {
      "metadata": {
        "trusted": true
      },
      "cell_type": "code",
      "source": "preds[7]\nprint(preds[7].argmax())\nplt.imshow(images[7].view(28,28))\nplt.show()",
      "execution_count": 58,
      "outputs": [
        {
          "output_type": "stream",
          "text": "tensor(1)\n",
          "name": "stdout"
        },
        {
          "output_type": "display_data",
          "data": {
            "image/png": "[encoded data removed]",
            "text/plain": "<Figure size 432x288 with 1 Axes>"
          },
          "metadata": {
            "needs_background": "light"
          }
        }
      ]
    },
    {
      "metadata": {
        "trusted": true
      },
      "cell_type": "code",
      "source": "",
      "execution_count": null,
      "outputs": []
    }
  ],
  "metadata": {
    "kernelspec": {
      "name": "python36",
      "display_name": "Python 3.6",
      "language": "python"
    },
    "language_info": {
      "mimetype": "text/x-python",
      "nbconvert_exporter": "python",
      "name": "python",
      "pygments_lexer": "ipython3",
      "version": "3.6.6",
      "file_extension": ".py",
      "codemirror_mode": {
        "version": 3,
        "name": "ipython"
      }
    }
  },
  "nbformat": 4,
  "nbformat_minor": 2
}